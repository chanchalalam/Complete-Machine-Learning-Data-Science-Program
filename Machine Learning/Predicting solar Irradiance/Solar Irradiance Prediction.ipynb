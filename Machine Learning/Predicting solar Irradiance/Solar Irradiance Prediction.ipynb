{
 "cells": [
  {
   "cell_type": "markdown",
   "metadata": {},
   "source": [
    "# Data Description"
   ]
  },
  {
   "cell_type": "markdown",
   "metadata": {},
   "source": [
    "These datasets are meteorological data from the HI-SEAS weather station from four months (September through December 2016) between Mission IV and Mission V.\n",
    "\n",
    "For each dataset, the fields are:\n",
    "\n",
    "A row number (1-n) useful in sorting this export's results\n",
    "The UNIX time_t date (seconds since Jan 1, 1970). Useful in sorting this export's results with other export's results\n",
    "The date in yyyy-mm-dd format\n",
    "The local time of day in hh:mm:ss 24-hour format\n",
    "The numeric data, if any (may be an empty string)\n",
    "The text data, if any (may be an empty string)\n",
    "\n",
    "The units of each dataset are:\n",
    "\n",
    "- Solar radiation: watts per meter^2\n",
    "- Temperature: degrees Fahrenheit\n",
    "- Humidity: percent\n",
    "- Barometric pressure: Hg\n",
    "- Wind direction: degrees\n",
    "- Wind speed: miles per hour\n",
    "- Sunrise/sunset: Hawaii time\n",
    "\n",
    "Link: https://www.kaggle.com/datasets/dronio/SolarEnergy"
   ]
  },
  {
   "cell_type": "markdown",
   "metadata": {},
   "source": [
    "# Table of Content"
   ]
  },
  {
   "cell_type": "markdown",
   "metadata": {},
   "source": [
    "1. Importing Libraries\n",
    "2. Loading Data\n",
    "3. Data Wrangling\n",
    "4. Feature Selection using Correlation Matrix\n",
    "5. Feature Selection using SelectKBest Method\n",
    "6. Feature Selection using Extra Tree Classifier\n",
    "7. Feature Engineering with BoxCox, Log, Min-Max and Standard transformation\n",
    "8. Preparing data - Standardisation and Splitting\n",
    "9. Prediction with XGBoost\n",
    "10. Using MultiLayer Perceptron for prediction"
   ]
  },
  {
   "cell_type": "markdown",
   "metadata": {},
   "source": [
    "# Importing Libraries"
   ]
  },
  {
   "cell_type": "code",
   "execution_count": 338,
   "metadata": {},
   "outputs": [],
   "source": [
    "import warnings\n",
    "warnings.filterwarnings(\"ignore\")\n",
    "import numpy as np\n",
    "from scipy import stats\n",
    "import pandas as pd\n",
    "import matplotlib.pyplot as plt\n",
    "import seaborn as sns\n",
    "\n",
    "import re\n",
    "\n",
    "from sklearn.preprocessing import StandardScaler, MinMaxScaler\n",
    "\n",
    "from sklearn.ensemble import ExtraTreesClassifier\n",
    "from sklearn.feature_selection import SelectKBest\n",
    "from sklearn.feature_selection import chi2\n",
    "from sklearn.model_selection import train_test_split\n",
    "\n",
    "# !pip install xgboost\n",
    "import xgboost as xgb\n",
    "\n",
    "from tensorflow.keras.layers import Dense, Dropout, Activation\n",
    "from tensorflow.keras.optimizers import SGD, Adam\n",
    "from tensorflow.keras.models import Sequential\n",
    "from collections import Counter\n",
    "\n",
    "from sklearn.metrics import mean_squared_error, r2_score, mean_absolute_error"
   ]
  },
  {
   "cell_type": "markdown",
   "metadata": {},
   "source": [
    "# Loading Data"
   ]
  },
  {
   "cell_type": "code",
   "execution_count": 41,
   "metadata": {},
   "outputs": [],
   "source": [
    "data = pd.read_csv(\"solar_irradiance data.csv\")"
   ]
  },
  {
   "cell_type": "code",
   "execution_count": 42,
   "metadata": {},
   "outputs": [
    {
     "data": {
      "text/html": [
       "<div>\n",
       "<style scoped>\n",
       "    .dataframe tbody tr th:only-of-type {\n",
       "        vertical-align: middle;\n",
       "    }\n",
       "\n",
       "    .dataframe tbody tr th {\n",
       "        vertical-align: top;\n",
       "    }\n",
       "\n",
       "    .dataframe thead th {\n",
       "        text-align: right;\n",
       "    }\n",
       "</style>\n",
       "<table border=\"1\" class=\"dataframe\">\n",
       "  <thead>\n",
       "    <tr style=\"text-align: right;\">\n",
       "      <th></th>\n",
       "      <th>UNIXTime</th>\n",
       "      <th>Data</th>\n",
       "      <th>Time</th>\n",
       "      <th>Radiation</th>\n",
       "      <th>Temperature</th>\n",
       "      <th>Pressure</th>\n",
       "      <th>Humidity</th>\n",
       "      <th>WindDirection(Degrees)</th>\n",
       "      <th>Speed</th>\n",
       "      <th>TimeSunRise</th>\n",
       "      <th>TimeSunSet</th>\n",
       "    </tr>\n",
       "  </thead>\n",
       "  <tbody>\n",
       "    <tr>\n",
       "      <th>0</th>\n",
       "      <td>1475229326</td>\n",
       "      <td>9/29/2016 12:00:00 AM</td>\n",
       "      <td>23:55:26</td>\n",
       "      <td>1.21</td>\n",
       "      <td>48</td>\n",
       "      <td>30.46</td>\n",
       "      <td>59</td>\n",
       "      <td>177.39</td>\n",
       "      <td>5.62</td>\n",
       "      <td>06:13:00</td>\n",
       "      <td>18:13:00</td>\n",
       "    </tr>\n",
       "    <tr>\n",
       "      <th>1</th>\n",
       "      <td>1475229023</td>\n",
       "      <td>9/29/2016 12:00:00 AM</td>\n",
       "      <td>23:50:23</td>\n",
       "      <td>1.21</td>\n",
       "      <td>48</td>\n",
       "      <td>30.46</td>\n",
       "      <td>58</td>\n",
       "      <td>176.78</td>\n",
       "      <td>3.37</td>\n",
       "      <td>06:13:00</td>\n",
       "      <td>18:13:00</td>\n",
       "    </tr>\n",
       "    <tr>\n",
       "      <th>2</th>\n",
       "      <td>1475228726</td>\n",
       "      <td>9/29/2016 12:00:00 AM</td>\n",
       "      <td>23:45:26</td>\n",
       "      <td>1.23</td>\n",
       "      <td>48</td>\n",
       "      <td>30.46</td>\n",
       "      <td>57</td>\n",
       "      <td>158.75</td>\n",
       "      <td>3.37</td>\n",
       "      <td>06:13:00</td>\n",
       "      <td>18:13:00</td>\n",
       "    </tr>\n",
       "    <tr>\n",
       "      <th>3</th>\n",
       "      <td>1475228421</td>\n",
       "      <td>9/29/2016 12:00:00 AM</td>\n",
       "      <td>23:40:21</td>\n",
       "      <td>1.21</td>\n",
       "      <td>48</td>\n",
       "      <td>30.46</td>\n",
       "      <td>60</td>\n",
       "      <td>137.71</td>\n",
       "      <td>3.37</td>\n",
       "      <td>06:13:00</td>\n",
       "      <td>18:13:00</td>\n",
       "    </tr>\n",
       "    <tr>\n",
       "      <th>4</th>\n",
       "      <td>1475228124</td>\n",
       "      <td>9/29/2016 12:00:00 AM</td>\n",
       "      <td>23:35:24</td>\n",
       "      <td>1.17</td>\n",
       "      <td>48</td>\n",
       "      <td>30.46</td>\n",
       "      <td>62</td>\n",
       "      <td>104.95</td>\n",
       "      <td>5.62</td>\n",
       "      <td>06:13:00</td>\n",
       "      <td>18:13:00</td>\n",
       "    </tr>\n",
       "  </tbody>\n",
       "</table>\n",
       "</div>"
      ],
      "text/plain": [
       "     UNIXTime                   Data      Time  Radiation  Temperature  \\\n",
       "0  1475229326  9/29/2016 12:00:00 AM  23:55:26       1.21           48   \n",
       "1  1475229023  9/29/2016 12:00:00 AM  23:50:23       1.21           48   \n",
       "2  1475228726  9/29/2016 12:00:00 AM  23:45:26       1.23           48   \n",
       "3  1475228421  9/29/2016 12:00:00 AM  23:40:21       1.21           48   \n",
       "4  1475228124  9/29/2016 12:00:00 AM  23:35:24       1.17           48   \n",
       "\n",
       "   Pressure  Humidity  WindDirection(Degrees)  Speed TimeSunRise TimeSunSet  \n",
       "0     30.46        59                  177.39   5.62    06:13:00   18:13:00  \n",
       "1     30.46        58                  176.78   3.37    06:13:00   18:13:00  \n",
       "2     30.46        57                  158.75   3.37    06:13:00   18:13:00  \n",
       "3     30.46        60                  137.71   3.37    06:13:00   18:13:00  \n",
       "4     30.46        62                  104.95   5.62    06:13:00   18:13:00  "
      ]
     },
     "execution_count": 42,
     "metadata": {},
     "output_type": "execute_result"
    }
   ],
   "source": [
    "data.head(5)"
   ]
  },
  {
   "cell_type": "code",
   "execution_count": 43,
   "metadata": {},
   "outputs": [
    {
     "name": "stdout",
     "output_type": "stream",
     "text": [
      "<class 'pandas.core.frame.DataFrame'>\n",
      "RangeIndex: 32686 entries, 0 to 32685\n",
      "Data columns (total 11 columns):\n",
      " #   Column                  Non-Null Count  Dtype  \n",
      "---  ------                  --------------  -----  \n",
      " 0   UNIXTime                32686 non-null  int64  \n",
      " 1   Data                    32686 non-null  object \n",
      " 2   Time                    32686 non-null  object \n",
      " 3   Radiation               32686 non-null  float64\n",
      " 4   Temperature             32686 non-null  int64  \n",
      " 5   Pressure                32686 non-null  float64\n",
      " 6   Humidity                32686 non-null  int64  \n",
      " 7   WindDirection(Degrees)  32686 non-null  float64\n",
      " 8   Speed                   32686 non-null  float64\n",
      " 9   TimeSunRise             32686 non-null  object \n",
      " 10  TimeSunSet              32686 non-null  object \n",
      "dtypes: float64(4), int64(3), object(4)\n",
      "memory usage: 2.7+ MB\n"
     ]
    }
   ],
   "source": [
    "data.info()"
   ]
  },
  {
   "cell_type": "markdown",
   "metadata": {},
   "source": [
    "# Data Wrangling"
   ]
  },
  {
   "cell_type": "code",
   "execution_count": 55,
   "metadata": {},
   "outputs": [],
   "source": [
    "df = data.copy()"
   ]
  },
  {
   "cell_type": "code",
   "execution_count": 56,
   "metadata": {},
   "outputs": [],
   "source": [
    "# extract the date from the date_time format of the 'Data' parameter\n",
    "df['Data'] = df['Data'].apply(lambda x : x.split()[0])"
   ]
  },
  {
   "cell_type": "code",
   "execution_count": 57,
   "metadata": {},
   "outputs": [
    {
     "data": {
      "text/html": [
       "<div>\n",
       "<style scoped>\n",
       "    .dataframe tbody tr th:only-of-type {\n",
       "        vertical-align: middle;\n",
       "    }\n",
       "\n",
       "    .dataframe tbody tr th {\n",
       "        vertical-align: top;\n",
       "    }\n",
       "\n",
       "    .dataframe thead th {\n",
       "        text-align: right;\n",
       "    }\n",
       "</style>\n",
       "<table border=\"1\" class=\"dataframe\">\n",
       "  <thead>\n",
       "    <tr style=\"text-align: right;\">\n",
       "      <th></th>\n",
       "      <th>UNIXTime</th>\n",
       "      <th>Data</th>\n",
       "      <th>Time</th>\n",
       "      <th>Radiation</th>\n",
       "      <th>Temperature</th>\n",
       "      <th>Pressure</th>\n",
       "      <th>Humidity</th>\n",
       "      <th>WindDirection(Degrees)</th>\n",
       "      <th>Speed</th>\n",
       "      <th>TimeSunRise</th>\n",
       "      <th>TimeSunSet</th>\n",
       "    </tr>\n",
       "  </thead>\n",
       "  <tbody>\n",
       "    <tr>\n",
       "      <th>0</th>\n",
       "      <td>1475229326</td>\n",
       "      <td>9/29/2016</td>\n",
       "      <td>23:55:26</td>\n",
       "      <td>1.21</td>\n",
       "      <td>48</td>\n",
       "      <td>30.46</td>\n",
       "      <td>59</td>\n",
       "      <td>177.39</td>\n",
       "      <td>5.62</td>\n",
       "      <td>06:13:00</td>\n",
       "      <td>18:13:00</td>\n",
       "    </tr>\n",
       "    <tr>\n",
       "      <th>1</th>\n",
       "      <td>1475229023</td>\n",
       "      <td>9/29/2016</td>\n",
       "      <td>23:50:23</td>\n",
       "      <td>1.21</td>\n",
       "      <td>48</td>\n",
       "      <td>30.46</td>\n",
       "      <td>58</td>\n",
       "      <td>176.78</td>\n",
       "      <td>3.37</td>\n",
       "      <td>06:13:00</td>\n",
       "      <td>18:13:00</td>\n",
       "    </tr>\n",
       "    <tr>\n",
       "      <th>2</th>\n",
       "      <td>1475228726</td>\n",
       "      <td>9/29/2016</td>\n",
       "      <td>23:45:26</td>\n",
       "      <td>1.23</td>\n",
       "      <td>48</td>\n",
       "      <td>30.46</td>\n",
       "      <td>57</td>\n",
       "      <td>158.75</td>\n",
       "      <td>3.37</td>\n",
       "      <td>06:13:00</td>\n",
       "      <td>18:13:00</td>\n",
       "    </tr>\n",
       "    <tr>\n",
       "      <th>3</th>\n",
       "      <td>1475228421</td>\n",
       "      <td>9/29/2016</td>\n",
       "      <td>23:40:21</td>\n",
       "      <td>1.21</td>\n",
       "      <td>48</td>\n",
       "      <td>30.46</td>\n",
       "      <td>60</td>\n",
       "      <td>137.71</td>\n",
       "      <td>3.37</td>\n",
       "      <td>06:13:00</td>\n",
       "      <td>18:13:00</td>\n",
       "    </tr>\n",
       "    <tr>\n",
       "      <th>4</th>\n",
       "      <td>1475228124</td>\n",
       "      <td>9/29/2016</td>\n",
       "      <td>23:35:24</td>\n",
       "      <td>1.17</td>\n",
       "      <td>48</td>\n",
       "      <td>30.46</td>\n",
       "      <td>62</td>\n",
       "      <td>104.95</td>\n",
       "      <td>5.62</td>\n",
       "      <td>06:13:00</td>\n",
       "      <td>18:13:00</td>\n",
       "    </tr>\n",
       "  </tbody>\n",
       "</table>\n",
       "</div>"
      ],
      "text/plain": [
       "     UNIXTime       Data      Time  Radiation  Temperature  Pressure  \\\n",
       "0  1475229326  9/29/2016  23:55:26       1.21           48     30.46   \n",
       "1  1475229023  9/29/2016  23:50:23       1.21           48     30.46   \n",
       "2  1475228726  9/29/2016  23:45:26       1.23           48     30.46   \n",
       "3  1475228421  9/29/2016  23:40:21       1.21           48     30.46   \n",
       "4  1475228124  9/29/2016  23:35:24       1.17           48     30.46   \n",
       "\n",
       "   Humidity  WindDirection(Degrees)  Speed TimeSunRise TimeSunSet  \n",
       "0        59                  177.39   5.62    06:13:00   18:13:00  \n",
       "1        58                  176.78   3.37    06:13:00   18:13:00  \n",
       "2        57                  158.75   3.37    06:13:00   18:13:00  \n",
       "3        60                  137.71   3.37    06:13:00   18:13:00  \n",
       "4        62                  104.95   5.62    06:13:00   18:13:00  "
      ]
     },
     "execution_count": 57,
     "metadata": {},
     "output_type": "execute_result"
    }
   ],
   "source": [
    "df.head()"
   ]
  },
  {
   "cell_type": "code",
   "execution_count": 58,
   "metadata": {},
   "outputs": [],
   "source": [
    "# extract the date time features from the given parameter using date time python methods\n",
    "df['Month'] = pd.to_datetime(df['Data']).dt.month\n",
    "df['Day'] = pd.to_datetime(df['Data']).dt.day\n",
    "df['Hour'] = pd.to_datetime(df['Time']).dt.hour\n",
    "df['Minute'] = pd.to_datetime(df['Time']).dt.minute\n",
    "df['Second'] = pd.to_datetime(df['Time']).dt.second"
   ]
  },
  {
   "cell_type": "code",
   "execution_count": 59,
   "metadata": {},
   "outputs": [
    {
     "data": {
      "text/html": [
       "<div>\n",
       "<style scoped>\n",
       "    .dataframe tbody tr th:only-of-type {\n",
       "        vertical-align: middle;\n",
       "    }\n",
       "\n",
       "    .dataframe tbody tr th {\n",
       "        vertical-align: top;\n",
       "    }\n",
       "\n",
       "    .dataframe thead th {\n",
       "        text-align: right;\n",
       "    }\n",
       "</style>\n",
       "<table border=\"1\" class=\"dataframe\">\n",
       "  <thead>\n",
       "    <tr style=\"text-align: right;\">\n",
       "      <th></th>\n",
       "      <th>UNIXTime</th>\n",
       "      <th>Data</th>\n",
       "      <th>Time</th>\n",
       "      <th>Radiation</th>\n",
       "      <th>Temperature</th>\n",
       "      <th>Pressure</th>\n",
       "      <th>Humidity</th>\n",
       "      <th>WindDirection(Degrees)</th>\n",
       "      <th>Speed</th>\n",
       "      <th>TimeSunRise</th>\n",
       "      <th>TimeSunSet</th>\n",
       "      <th>Month</th>\n",
       "      <th>Day</th>\n",
       "      <th>Hour</th>\n",
       "      <th>Minute</th>\n",
       "      <th>Second</th>\n",
       "    </tr>\n",
       "  </thead>\n",
       "  <tbody>\n",
       "    <tr>\n",
       "      <th>0</th>\n",
       "      <td>1475229326</td>\n",
       "      <td>9/29/2016</td>\n",
       "      <td>23:55:26</td>\n",
       "      <td>1.21</td>\n",
       "      <td>48</td>\n",
       "      <td>30.46</td>\n",
       "      <td>59</td>\n",
       "      <td>177.39</td>\n",
       "      <td>5.62</td>\n",
       "      <td>06:13:00</td>\n",
       "      <td>18:13:00</td>\n",
       "      <td>9</td>\n",
       "      <td>29</td>\n",
       "      <td>23</td>\n",
       "      <td>55</td>\n",
       "      <td>26</td>\n",
       "    </tr>\n",
       "    <tr>\n",
       "      <th>1</th>\n",
       "      <td>1475229023</td>\n",
       "      <td>9/29/2016</td>\n",
       "      <td>23:50:23</td>\n",
       "      <td>1.21</td>\n",
       "      <td>48</td>\n",
       "      <td>30.46</td>\n",
       "      <td>58</td>\n",
       "      <td>176.78</td>\n",
       "      <td>3.37</td>\n",
       "      <td>06:13:00</td>\n",
       "      <td>18:13:00</td>\n",
       "      <td>9</td>\n",
       "      <td>29</td>\n",
       "      <td>23</td>\n",
       "      <td>50</td>\n",
       "      <td>23</td>\n",
       "    </tr>\n",
       "    <tr>\n",
       "      <th>2</th>\n",
       "      <td>1475228726</td>\n",
       "      <td>9/29/2016</td>\n",
       "      <td>23:45:26</td>\n",
       "      <td>1.23</td>\n",
       "      <td>48</td>\n",
       "      <td>30.46</td>\n",
       "      <td>57</td>\n",
       "      <td>158.75</td>\n",
       "      <td>3.37</td>\n",
       "      <td>06:13:00</td>\n",
       "      <td>18:13:00</td>\n",
       "      <td>9</td>\n",
       "      <td>29</td>\n",
       "      <td>23</td>\n",
       "      <td>45</td>\n",
       "      <td>26</td>\n",
       "    </tr>\n",
       "    <tr>\n",
       "      <th>3</th>\n",
       "      <td>1475228421</td>\n",
       "      <td>9/29/2016</td>\n",
       "      <td>23:40:21</td>\n",
       "      <td>1.21</td>\n",
       "      <td>48</td>\n",
       "      <td>30.46</td>\n",
       "      <td>60</td>\n",
       "      <td>137.71</td>\n",
       "      <td>3.37</td>\n",
       "      <td>06:13:00</td>\n",
       "      <td>18:13:00</td>\n",
       "      <td>9</td>\n",
       "      <td>29</td>\n",
       "      <td>23</td>\n",
       "      <td>40</td>\n",
       "      <td>21</td>\n",
       "    </tr>\n",
       "    <tr>\n",
       "      <th>4</th>\n",
       "      <td>1475228124</td>\n",
       "      <td>9/29/2016</td>\n",
       "      <td>23:35:24</td>\n",
       "      <td>1.17</td>\n",
       "      <td>48</td>\n",
       "      <td>30.46</td>\n",
       "      <td>62</td>\n",
       "      <td>104.95</td>\n",
       "      <td>5.62</td>\n",
       "      <td>06:13:00</td>\n",
       "      <td>18:13:00</td>\n",
       "      <td>9</td>\n",
       "      <td>29</td>\n",
       "      <td>23</td>\n",
       "      <td>35</td>\n",
       "      <td>24</td>\n",
       "    </tr>\n",
       "  </tbody>\n",
       "</table>\n",
       "</div>"
      ],
      "text/plain": [
       "     UNIXTime       Data      Time  Radiation  Temperature  Pressure  \\\n",
       "0  1475229326  9/29/2016  23:55:26       1.21           48     30.46   \n",
       "1  1475229023  9/29/2016  23:50:23       1.21           48     30.46   \n",
       "2  1475228726  9/29/2016  23:45:26       1.23           48     30.46   \n",
       "3  1475228421  9/29/2016  23:40:21       1.21           48     30.46   \n",
       "4  1475228124  9/29/2016  23:35:24       1.17           48     30.46   \n",
       "\n",
       "   Humidity  WindDirection(Degrees)  Speed TimeSunRise TimeSunSet  Month  Day  \\\n",
       "0        59                  177.39   5.62    06:13:00   18:13:00      9   29   \n",
       "1        58                  176.78   3.37    06:13:00   18:13:00      9   29   \n",
       "2        57                  158.75   3.37    06:13:00   18:13:00      9   29   \n",
       "3        60                  137.71   3.37    06:13:00   18:13:00      9   29   \n",
       "4        62                  104.95   5.62    06:13:00   18:13:00      9   29   \n",
       "\n",
       "   Hour  Minute  Second  \n",
       "0    23      55      26  \n",
       "1    23      50      23  \n",
       "2    23      45      26  \n",
       "3    23      40      21  \n",
       "4    23      35      24  "
      ]
     },
     "execution_count": 59,
     "metadata": {},
     "output_type": "execute_result"
    }
   ],
   "source": [
    "df.head()"
   ]
  },
  {
   "cell_type": "code",
   "execution_count": 60,
   "metadata": {},
   "outputs": [],
   "source": [
    "# extract the sunrise and sunset information using regular expression\n",
    "df['risehour'] = df['TimeSunRise'].apply(lambda x : re.search(r'^\\d+', x).group(0)).astype(int)\n",
    "df['riseminuter'] = df['TimeSunRise'].apply(lambda x : re.search(r'(?<=\\:)\\d+(?=\\:)', x).group(0)).astype(int)\n",
    "\n",
    "df['sethour'] = df['TimeSunSet'].apply(lambda x : re.search(r'^\\d+', x).group(0)).astype(int)\n",
    "df['setminute'] = df['TimeSunSet'].apply(lambda x : re.search(r'(?<=\\:)\\d+(?=\\:)', x).group(0)).astype(int)"
   ]
  },
  {
   "cell_type": "code",
   "execution_count": 61,
   "metadata": {},
   "outputs": [
    {
     "data": {
      "text/html": [
       "<div>\n",
       "<style scoped>\n",
       "    .dataframe tbody tr th:only-of-type {\n",
       "        vertical-align: middle;\n",
       "    }\n",
       "\n",
       "    .dataframe tbody tr th {\n",
       "        vertical-align: top;\n",
       "    }\n",
       "\n",
       "    .dataframe thead th {\n",
       "        text-align: right;\n",
       "    }\n",
       "</style>\n",
       "<table border=\"1\" class=\"dataframe\">\n",
       "  <thead>\n",
       "    <tr style=\"text-align: right;\">\n",
       "      <th></th>\n",
       "      <th>UNIXTime</th>\n",
       "      <th>Data</th>\n",
       "      <th>Time</th>\n",
       "      <th>Radiation</th>\n",
       "      <th>Temperature</th>\n",
       "      <th>Pressure</th>\n",
       "      <th>Humidity</th>\n",
       "      <th>WindDirection(Degrees)</th>\n",
       "      <th>Speed</th>\n",
       "      <th>TimeSunRise</th>\n",
       "      <th>TimeSunSet</th>\n",
       "      <th>Month</th>\n",
       "      <th>Day</th>\n",
       "      <th>Hour</th>\n",
       "      <th>Minute</th>\n",
       "      <th>Second</th>\n",
       "      <th>risehour</th>\n",
       "      <th>riseminuter</th>\n",
       "      <th>sethour</th>\n",
       "      <th>setminute</th>\n",
       "    </tr>\n",
       "  </thead>\n",
       "  <tbody>\n",
       "    <tr>\n",
       "      <th>0</th>\n",
       "      <td>1475229326</td>\n",
       "      <td>9/29/2016</td>\n",
       "      <td>23:55:26</td>\n",
       "      <td>1.21</td>\n",
       "      <td>48</td>\n",
       "      <td>30.46</td>\n",
       "      <td>59</td>\n",
       "      <td>177.39</td>\n",
       "      <td>5.62</td>\n",
       "      <td>06:13:00</td>\n",
       "      <td>18:13:00</td>\n",
       "      <td>9</td>\n",
       "      <td>29</td>\n",
       "      <td>23</td>\n",
       "      <td>55</td>\n",
       "      <td>26</td>\n",
       "      <td>6</td>\n",
       "      <td>13</td>\n",
       "      <td>18</td>\n",
       "      <td>13</td>\n",
       "    </tr>\n",
       "    <tr>\n",
       "      <th>1</th>\n",
       "      <td>1475229023</td>\n",
       "      <td>9/29/2016</td>\n",
       "      <td>23:50:23</td>\n",
       "      <td>1.21</td>\n",
       "      <td>48</td>\n",
       "      <td>30.46</td>\n",
       "      <td>58</td>\n",
       "      <td>176.78</td>\n",
       "      <td>3.37</td>\n",
       "      <td>06:13:00</td>\n",
       "      <td>18:13:00</td>\n",
       "      <td>9</td>\n",
       "      <td>29</td>\n",
       "      <td>23</td>\n",
       "      <td>50</td>\n",
       "      <td>23</td>\n",
       "      <td>6</td>\n",
       "      <td>13</td>\n",
       "      <td>18</td>\n",
       "      <td>13</td>\n",
       "    </tr>\n",
       "    <tr>\n",
       "      <th>2</th>\n",
       "      <td>1475228726</td>\n",
       "      <td>9/29/2016</td>\n",
       "      <td>23:45:26</td>\n",
       "      <td>1.23</td>\n",
       "      <td>48</td>\n",
       "      <td>30.46</td>\n",
       "      <td>57</td>\n",
       "      <td>158.75</td>\n",
       "      <td>3.37</td>\n",
       "      <td>06:13:00</td>\n",
       "      <td>18:13:00</td>\n",
       "      <td>9</td>\n",
       "      <td>29</td>\n",
       "      <td>23</td>\n",
       "      <td>45</td>\n",
       "      <td>26</td>\n",
       "      <td>6</td>\n",
       "      <td>13</td>\n",
       "      <td>18</td>\n",
       "      <td>13</td>\n",
       "    </tr>\n",
       "    <tr>\n",
       "      <th>3</th>\n",
       "      <td>1475228421</td>\n",
       "      <td>9/29/2016</td>\n",
       "      <td>23:40:21</td>\n",
       "      <td>1.21</td>\n",
       "      <td>48</td>\n",
       "      <td>30.46</td>\n",
       "      <td>60</td>\n",
       "      <td>137.71</td>\n",
       "      <td>3.37</td>\n",
       "      <td>06:13:00</td>\n",
       "      <td>18:13:00</td>\n",
       "      <td>9</td>\n",
       "      <td>29</td>\n",
       "      <td>23</td>\n",
       "      <td>40</td>\n",
       "      <td>21</td>\n",
       "      <td>6</td>\n",
       "      <td>13</td>\n",
       "      <td>18</td>\n",
       "      <td>13</td>\n",
       "    </tr>\n",
       "    <tr>\n",
       "      <th>4</th>\n",
       "      <td>1475228124</td>\n",
       "      <td>9/29/2016</td>\n",
       "      <td>23:35:24</td>\n",
       "      <td>1.17</td>\n",
       "      <td>48</td>\n",
       "      <td>30.46</td>\n",
       "      <td>62</td>\n",
       "      <td>104.95</td>\n",
       "      <td>5.62</td>\n",
       "      <td>06:13:00</td>\n",
       "      <td>18:13:00</td>\n",
       "      <td>9</td>\n",
       "      <td>29</td>\n",
       "      <td>23</td>\n",
       "      <td>35</td>\n",
       "      <td>24</td>\n",
       "      <td>6</td>\n",
       "      <td>13</td>\n",
       "      <td>18</td>\n",
       "      <td>13</td>\n",
       "    </tr>\n",
       "  </tbody>\n",
       "</table>\n",
       "</div>"
      ],
      "text/plain": [
       "     UNIXTime       Data      Time  Radiation  Temperature  Pressure  \\\n",
       "0  1475229326  9/29/2016  23:55:26       1.21           48     30.46   \n",
       "1  1475229023  9/29/2016  23:50:23       1.21           48     30.46   \n",
       "2  1475228726  9/29/2016  23:45:26       1.23           48     30.46   \n",
       "3  1475228421  9/29/2016  23:40:21       1.21           48     30.46   \n",
       "4  1475228124  9/29/2016  23:35:24       1.17           48     30.46   \n",
       "\n",
       "   Humidity  WindDirection(Degrees)  Speed TimeSunRise TimeSunSet  Month  Day  \\\n",
       "0        59                  177.39   5.62    06:13:00   18:13:00      9   29   \n",
       "1        58                  176.78   3.37    06:13:00   18:13:00      9   29   \n",
       "2        57                  158.75   3.37    06:13:00   18:13:00      9   29   \n",
       "3        60                  137.71   3.37    06:13:00   18:13:00      9   29   \n",
       "4        62                  104.95   5.62    06:13:00   18:13:00      9   29   \n",
       "\n",
       "   Hour  Minute  Second  risehour  riseminuter  sethour  setminute  \n",
       "0    23      55      26         6           13       18         13  \n",
       "1    23      50      23         6           13       18         13  \n",
       "2    23      45      26         6           13       18         13  \n",
       "3    23      40      21         6           13       18         13  \n",
       "4    23      35      24         6           13       18         13  "
      ]
     },
     "execution_count": 61,
     "metadata": {},
     "output_type": "execute_result"
    }
   ],
   "source": [
    "df.head()"
   ]
  },
  {
   "cell_type": "code",
   "execution_count": 107,
   "metadata": {},
   "outputs": [
    {
     "name": "stdout",
     "output_type": "stream",
     "text": [
      "<class 'pandas.core.frame.DataFrame'>\n",
      "RangeIndex: 32686 entries, 0 to 32685\n",
      "Data columns (total 15 columns):\n",
      " #   Column                  Non-Null Count  Dtype  \n",
      "---  ------                  --------------  -----  \n",
      " 0   Radiation               32686 non-null  float64\n",
      " 1   Temperature             32686 non-null  int64  \n",
      " 2   Pressure                32686 non-null  float64\n",
      " 3   Humidity                32686 non-null  int64  \n",
      " 4   WindDirection(Degrees)  32686 non-null  float64\n",
      " 5   Speed                   32686 non-null  float64\n",
      " 6   Month                   32686 non-null  int64  \n",
      " 7   Day                     32686 non-null  int64  \n",
      " 8   Hour                    32686 non-null  int64  \n",
      " 9   Minute                  32686 non-null  int64  \n",
      " 10  Second                  32686 non-null  int64  \n",
      " 11  risehour                32686 non-null  int64  \n",
      " 12  riseminuter             32686 non-null  int64  \n",
      " 13  sethour                 32686 non-null  int64  \n",
      " 14  setminute               32686 non-null  int64  \n",
      "dtypes: float64(4), int64(11)\n",
      "memory usage: 3.7 MB\n"
     ]
    }
   ],
   "source": [
    "df.info()"
   ]
  },
  {
   "cell_type": "code",
   "execution_count": 62,
   "metadata": {},
   "outputs": [],
   "source": [
    "# drop the parameters that are not required after extracting the relevant information\n",
    "df.drop(['UNIXTime', 'Data', 'Time', 'TimeSunRise', 'TimeSunSet'], axis = 1, inplace = True)"
   ]
  },
  {
   "cell_type": "code",
   "execution_count": 63,
   "metadata": {},
   "outputs": [
    {
     "data": {
      "text/html": [
       "<div>\n",
       "<style scoped>\n",
       "    .dataframe tbody tr th:only-of-type {\n",
       "        vertical-align: middle;\n",
       "    }\n",
       "\n",
       "    .dataframe tbody tr th {\n",
       "        vertical-align: top;\n",
       "    }\n",
       "\n",
       "    .dataframe thead th {\n",
       "        text-align: right;\n",
       "    }\n",
       "</style>\n",
       "<table border=\"1\" class=\"dataframe\">\n",
       "  <thead>\n",
       "    <tr style=\"text-align: right;\">\n",
       "      <th></th>\n",
       "      <th>Radiation</th>\n",
       "      <th>Temperature</th>\n",
       "      <th>Pressure</th>\n",
       "      <th>Humidity</th>\n",
       "      <th>WindDirection(Degrees)</th>\n",
       "      <th>Speed</th>\n",
       "      <th>Month</th>\n",
       "      <th>Day</th>\n",
       "      <th>Hour</th>\n",
       "      <th>Minute</th>\n",
       "      <th>Second</th>\n",
       "      <th>risehour</th>\n",
       "      <th>riseminuter</th>\n",
       "      <th>sethour</th>\n",
       "      <th>setminute</th>\n",
       "    </tr>\n",
       "  </thead>\n",
       "  <tbody>\n",
       "    <tr>\n",
       "      <th>0</th>\n",
       "      <td>1.21</td>\n",
       "      <td>48</td>\n",
       "      <td>30.46</td>\n",
       "      <td>59</td>\n",
       "      <td>177.39</td>\n",
       "      <td>5.62</td>\n",
       "      <td>9</td>\n",
       "      <td>29</td>\n",
       "      <td>23</td>\n",
       "      <td>55</td>\n",
       "      <td>26</td>\n",
       "      <td>6</td>\n",
       "      <td>13</td>\n",
       "      <td>18</td>\n",
       "      <td>13</td>\n",
       "    </tr>\n",
       "    <tr>\n",
       "      <th>1</th>\n",
       "      <td>1.21</td>\n",
       "      <td>48</td>\n",
       "      <td>30.46</td>\n",
       "      <td>58</td>\n",
       "      <td>176.78</td>\n",
       "      <td>3.37</td>\n",
       "      <td>9</td>\n",
       "      <td>29</td>\n",
       "      <td>23</td>\n",
       "      <td>50</td>\n",
       "      <td>23</td>\n",
       "      <td>6</td>\n",
       "      <td>13</td>\n",
       "      <td>18</td>\n",
       "      <td>13</td>\n",
       "    </tr>\n",
       "    <tr>\n",
       "      <th>2</th>\n",
       "      <td>1.23</td>\n",
       "      <td>48</td>\n",
       "      <td>30.46</td>\n",
       "      <td>57</td>\n",
       "      <td>158.75</td>\n",
       "      <td>3.37</td>\n",
       "      <td>9</td>\n",
       "      <td>29</td>\n",
       "      <td>23</td>\n",
       "      <td>45</td>\n",
       "      <td>26</td>\n",
       "      <td>6</td>\n",
       "      <td>13</td>\n",
       "      <td>18</td>\n",
       "      <td>13</td>\n",
       "    </tr>\n",
       "    <tr>\n",
       "      <th>3</th>\n",
       "      <td>1.21</td>\n",
       "      <td>48</td>\n",
       "      <td>30.46</td>\n",
       "      <td>60</td>\n",
       "      <td>137.71</td>\n",
       "      <td>3.37</td>\n",
       "      <td>9</td>\n",
       "      <td>29</td>\n",
       "      <td>23</td>\n",
       "      <td>40</td>\n",
       "      <td>21</td>\n",
       "      <td>6</td>\n",
       "      <td>13</td>\n",
       "      <td>18</td>\n",
       "      <td>13</td>\n",
       "    </tr>\n",
       "    <tr>\n",
       "      <th>4</th>\n",
       "      <td>1.17</td>\n",
       "      <td>48</td>\n",
       "      <td>30.46</td>\n",
       "      <td>62</td>\n",
       "      <td>104.95</td>\n",
       "      <td>5.62</td>\n",
       "      <td>9</td>\n",
       "      <td>29</td>\n",
       "      <td>23</td>\n",
       "      <td>35</td>\n",
       "      <td>24</td>\n",
       "      <td>6</td>\n",
       "      <td>13</td>\n",
       "      <td>18</td>\n",
       "      <td>13</td>\n",
       "    </tr>\n",
       "  </tbody>\n",
       "</table>\n",
       "</div>"
      ],
      "text/plain": [
       "   Radiation  Temperature  Pressure  Humidity  WindDirection(Degrees)  Speed  \\\n",
       "0       1.21           48     30.46        59                  177.39   5.62   \n",
       "1       1.21           48     30.46        58                  176.78   3.37   \n",
       "2       1.23           48     30.46        57                  158.75   3.37   \n",
       "3       1.21           48     30.46        60                  137.71   3.37   \n",
       "4       1.17           48     30.46        62                  104.95   5.62   \n",
       "\n",
       "   Month  Day  Hour  Minute  Second  risehour  riseminuter  sethour  setminute  \n",
       "0      9   29    23      55      26         6           13       18         13  \n",
       "1      9   29    23      50      23         6           13       18         13  \n",
       "2      9   29    23      45      26         6           13       18         13  \n",
       "3      9   29    23      40      21         6           13       18         13  \n",
       "4      9   29    23      35      24         6           13       18         13  "
      ]
     },
     "execution_count": 63,
     "metadata": {},
     "output_type": "execute_result"
    }
   ],
   "source": [
    "df.head()"
   ]
  },
  {
   "cell_type": "code",
   "execution_count": 64,
   "metadata": {},
   "outputs": [
    {
     "data": {
      "text/plain": [
       "(32686, 15)"
      ]
     },
     "execution_count": 64,
     "metadata": {},
     "output_type": "execute_result"
    }
   ],
   "source": [
    "# check of data dimensions\n",
    "df.shape"
   ]
  },
  {
   "cell_type": "code",
   "execution_count": 65,
   "metadata": {},
   "outputs": [
    {
     "data": {
      "text/plain": [
       "0"
      ]
     },
     "execution_count": 65,
     "metadata": {},
     "output_type": "execute_result"
    }
   ],
   "source": [
    "# checking for null values in the data\n",
    "df.isnull().sum().sum()"
   ]
  },
  {
   "cell_type": "code",
   "execution_count": 102,
   "metadata": {},
   "outputs": [
    {
     "data": {
      "text/html": [
       "<div>\n",
       "<style scoped>\n",
       "    .dataframe tbody tr th:only-of-type {\n",
       "        vertical-align: middle;\n",
       "    }\n",
       "\n",
       "    .dataframe tbody tr th {\n",
       "        vertical-align: top;\n",
       "    }\n",
       "\n",
       "    .dataframe thead th {\n",
       "        text-align: right;\n",
       "    }\n",
       "</style>\n",
       "<table border=\"1\" class=\"dataframe\">\n",
       "  <thead>\n",
       "    <tr style=\"text-align: right;\">\n",
       "      <th></th>\n",
       "      <th>Radiation</th>\n",
       "      <th>Temperature</th>\n",
       "      <th>Pressure</th>\n",
       "      <th>Humidity</th>\n",
       "      <th>WindDirection(Degrees)</th>\n",
       "      <th>Speed</th>\n",
       "      <th>Month</th>\n",
       "      <th>Day</th>\n",
       "      <th>Hour</th>\n",
       "      <th>Minute</th>\n",
       "      <th>Second</th>\n",
       "      <th>risehour</th>\n",
       "      <th>riseminuter</th>\n",
       "      <th>sethour</th>\n",
       "      <th>setminute</th>\n",
       "    </tr>\n",
       "  </thead>\n",
       "  <tbody>\n",
       "    <tr>\n",
       "      <th>0</th>\n",
       "      <td>1.21</td>\n",
       "      <td>48</td>\n",
       "      <td>30.46</td>\n",
       "      <td>59</td>\n",
       "      <td>177.39</td>\n",
       "      <td>5.62</td>\n",
       "      <td>9</td>\n",
       "      <td>29</td>\n",
       "      <td>23</td>\n",
       "      <td>55</td>\n",
       "      <td>26</td>\n",
       "      <td>6</td>\n",
       "      <td>13</td>\n",
       "      <td>18</td>\n",
       "      <td>13</td>\n",
       "    </tr>\n",
       "    <tr>\n",
       "      <th>1</th>\n",
       "      <td>1.21</td>\n",
       "      <td>48</td>\n",
       "      <td>30.46</td>\n",
       "      <td>58</td>\n",
       "      <td>176.78</td>\n",
       "      <td>3.37</td>\n",
       "      <td>9</td>\n",
       "      <td>29</td>\n",
       "      <td>23</td>\n",
       "      <td>50</td>\n",
       "      <td>23</td>\n",
       "      <td>6</td>\n",
       "      <td>13</td>\n",
       "      <td>18</td>\n",
       "      <td>13</td>\n",
       "    </tr>\n",
       "    <tr>\n",
       "      <th>2</th>\n",
       "      <td>1.23</td>\n",
       "      <td>48</td>\n",
       "      <td>30.46</td>\n",
       "      <td>57</td>\n",
       "      <td>158.75</td>\n",
       "      <td>3.37</td>\n",
       "      <td>9</td>\n",
       "      <td>29</td>\n",
       "      <td>23</td>\n",
       "      <td>45</td>\n",
       "      <td>26</td>\n",
       "      <td>6</td>\n",
       "      <td>13</td>\n",
       "      <td>18</td>\n",
       "      <td>13</td>\n",
       "    </tr>\n",
       "    <tr>\n",
       "      <th>3</th>\n",
       "      <td>1.21</td>\n",
       "      <td>48</td>\n",
       "      <td>30.46</td>\n",
       "      <td>60</td>\n",
       "      <td>137.71</td>\n",
       "      <td>3.37</td>\n",
       "      <td>9</td>\n",
       "      <td>29</td>\n",
       "      <td>23</td>\n",
       "      <td>40</td>\n",
       "      <td>21</td>\n",
       "      <td>6</td>\n",
       "      <td>13</td>\n",
       "      <td>18</td>\n",
       "      <td>13</td>\n",
       "    </tr>\n",
       "    <tr>\n",
       "      <th>4</th>\n",
       "      <td>1.17</td>\n",
       "      <td>48</td>\n",
       "      <td>30.46</td>\n",
       "      <td>62</td>\n",
       "      <td>104.95</td>\n",
       "      <td>5.62</td>\n",
       "      <td>9</td>\n",
       "      <td>29</td>\n",
       "      <td>23</td>\n",
       "      <td>35</td>\n",
       "      <td>24</td>\n",
       "      <td>6</td>\n",
       "      <td>13</td>\n",
       "      <td>18</td>\n",
       "      <td>13</td>\n",
       "    </tr>\n",
       "  </tbody>\n",
       "</table>\n",
       "</div>"
      ],
      "text/plain": [
       "   Radiation  Temperature  Pressure  Humidity  WindDirection(Degrees)  Speed  \\\n",
       "0       1.21           48     30.46        59                  177.39   5.62   \n",
       "1       1.21           48     30.46        58                  176.78   3.37   \n",
       "2       1.23           48     30.46        57                  158.75   3.37   \n",
       "3       1.21           48     30.46        60                  137.71   3.37   \n",
       "4       1.17           48     30.46        62                  104.95   5.62   \n",
       "\n",
       "   Month  Day  Hour  Minute  Second  risehour  riseminuter  sethour  setminute  \n",
       "0      9   29    23      55      26         6           13       18         13  \n",
       "1      9   29    23      50      23         6           13       18         13  \n",
       "2      9   29    23      45      26         6           13       18         13  \n",
       "3      9   29    23      40      21         6           13       18         13  \n",
       "4      9   29    23      35      24         6           13       18         13  "
      ]
     },
     "execution_count": 102,
     "metadata": {},
     "output_type": "execute_result"
    }
   ],
   "source": [
    "# glimpse of the final data\n",
    "df.head()"
   ]
  },
  {
   "cell_type": "code",
   "execution_count": 137,
   "metadata": {},
   "outputs": [
    {
     "data": {
      "text/plain": [
       "array([1.21, 1.21, 1.23, ..., 1.2 , 1.23, 1.2 ])"
      ]
     },
     "execution_count": 137,
     "metadata": {},
     "output_type": "execute_result"
    }
   ],
   "source": [
    "np.array(df['Radiation'])"
   ]
  },
  {
   "cell_type": "code",
   "execution_count": 136,
   "metadata": {},
   "outputs": [
    {
     "data": {
      "text/plain": [
       "(178,)"
      ]
     },
     "execution_count": 136,
     "metadata": {},
     "output_type": "execute_result"
    }
   ],
   "source": [
    "y.shape"
   ]
  },
  {
   "cell_type": "code",
   "execution_count": 153,
   "metadata": {},
   "outputs": [],
   "source": [
    "input_features = df.drop('Radiation', axis = 1)\n",
    "target = df['Radiation']"
   ]
  },
  {
   "cell_type": "code",
   "execution_count": null,
   "metadata": {},
   "outputs": [],
   "source": []
  },
  {
   "cell_type": "markdown",
   "metadata": {},
   "source": [
    "# Feature Selection using Correlation Matrix"
   ]
  },
  {
   "cell_type": "markdown",
   "metadata": {},
   "source": [
    "$$\n",
    "r=\\frac{\\sum\\left(x_i-\\bar{x}\\right)\\left(y_i-\\bar{y}\\right)}{\\sqrt{\\sum\\left(x_i-\\bar{x}\\right)^2 \\sum\\left(y_i-\\bar{y}\\right)^2}}\n",
    "$$\n",
    "- $r=$ correlation coefficient\n",
    "- $x_i=$ values of the $\\mathrm{x}$-variable in a sample\n",
    "- $\\bar{x}=$ mean of the values of the $\\mathrm{x}$-variable\n",
    "- $y_i=$ values of the $y$-variable in a sample\n",
    "- $\\bar{y}=$ mean of the values of the $y$-variable"
   ]
  },
  {
   "cell_type": "code",
   "execution_count": 108,
   "metadata": {},
   "outputs": [
    {
     "data": {
      "text/html": [
       "<div>\n",
       "<style scoped>\n",
       "    .dataframe tbody tr th:only-of-type {\n",
       "        vertical-align: middle;\n",
       "    }\n",
       "\n",
       "    .dataframe tbody tr th {\n",
       "        vertical-align: top;\n",
       "    }\n",
       "\n",
       "    .dataframe thead th {\n",
       "        text-align: right;\n",
       "    }\n",
       "</style>\n",
       "<table border=\"1\" class=\"dataframe\">\n",
       "  <thead>\n",
       "    <tr style=\"text-align: right;\">\n",
       "      <th></th>\n",
       "      <th>Radiation</th>\n",
       "      <th>Temperature</th>\n",
       "      <th>Pressure</th>\n",
       "      <th>Humidity</th>\n",
       "      <th>WindDirection(Degrees)</th>\n",
       "      <th>Speed</th>\n",
       "      <th>Month</th>\n",
       "      <th>Day</th>\n",
       "      <th>Hour</th>\n",
       "      <th>Minute</th>\n",
       "      <th>Second</th>\n",
       "      <th>risehour</th>\n",
       "      <th>riseminuter</th>\n",
       "      <th>sethour</th>\n",
       "      <th>setminute</th>\n",
       "    </tr>\n",
       "  </thead>\n",
       "  <tbody>\n",
       "    <tr>\n",
       "      <th>Radiation</th>\n",
       "      <td>1.000000</td>\n",
       "      <td>0.734955</td>\n",
       "      <td>0.119016</td>\n",
       "      <td>-0.226171</td>\n",
       "      <td>-0.230324</td>\n",
       "      <td>0.073627</td>\n",
       "      <td>-0.095450</td>\n",
       "      <td>0.039978</td>\n",
       "      <td>0.004398</td>\n",
       "      <td>-0.000730</td>\n",
       "      <td>-0.031270</td>\n",
       "      <td>NaN</td>\n",
       "      <td>-0.092850</td>\n",
       "      <td>0.048719</td>\n",
       "      <td>-0.039816</td>\n",
       "    </tr>\n",
       "    <tr>\n",
       "      <th>Temperature</th>\n",
       "      <td>0.734955</td>\n",
       "      <td>1.000000</td>\n",
       "      <td>0.311173</td>\n",
       "      <td>-0.285055</td>\n",
       "      <td>-0.259421</td>\n",
       "      <td>-0.031458</td>\n",
       "      <td>-0.354560</td>\n",
       "      <td>-0.123705</td>\n",
       "      <td>0.197464</td>\n",
       "      <td>-0.001934</td>\n",
       "      <td>-0.036147</td>\n",
       "      <td>NaN</td>\n",
       "      <td>-0.380968</td>\n",
       "      <td>0.300920</td>\n",
       "      <td>-0.242881</td>\n",
       "    </tr>\n",
       "    <tr>\n",
       "      <th>Pressure</th>\n",
       "      <td>0.119016</td>\n",
       "      <td>0.311173</td>\n",
       "      <td>1.000000</td>\n",
       "      <td>-0.223973</td>\n",
       "      <td>-0.229010</td>\n",
       "      <td>-0.083639</td>\n",
       "      <td>-0.341759</td>\n",
       "      <td>-0.024633</td>\n",
       "      <td>0.091069</td>\n",
       "      <td>0.001860</td>\n",
       "      <td>-0.031102</td>\n",
       "      <td>NaN</td>\n",
       "      <td>-0.380399</td>\n",
       "      <td>0.151939</td>\n",
       "      <td>-0.119599</td>\n",
       "    </tr>\n",
       "    <tr>\n",
       "      <th>Humidity</th>\n",
       "      <td>-0.226171</td>\n",
       "      <td>-0.285055</td>\n",
       "      <td>-0.223973</td>\n",
       "      <td>1.000000</td>\n",
       "      <td>-0.001833</td>\n",
       "      <td>-0.211624</td>\n",
       "      <td>-0.068854</td>\n",
       "      <td>0.014637</td>\n",
       "      <td>0.077899</td>\n",
       "      <td>0.000499</td>\n",
       "      <td>-0.027682</td>\n",
       "      <td>NaN</td>\n",
       "      <td>-0.023955</td>\n",
       "      <td>0.145143</td>\n",
       "      <td>-0.119526</td>\n",
       "    </tr>\n",
       "    <tr>\n",
       "      <th>WindDirection(Degrees)</th>\n",
       "      <td>-0.230324</td>\n",
       "      <td>-0.259421</td>\n",
       "      <td>-0.229010</td>\n",
       "      <td>-0.001833</td>\n",
       "      <td>1.000000</td>\n",
       "      <td>0.073092</td>\n",
       "      <td>0.181485</td>\n",
       "      <td>-0.082354</td>\n",
       "      <td>-0.077969</td>\n",
       "      <td>-0.000602</td>\n",
       "      <td>-0.032568</td>\n",
       "      <td>NaN</td>\n",
       "      <td>0.176929</td>\n",
       "      <td>-0.078540</td>\n",
       "      <td>0.070030</td>\n",
       "    </tr>\n",
       "    <tr>\n",
       "      <th>Speed</th>\n",
       "      <td>0.073627</td>\n",
       "      <td>-0.031458</td>\n",
       "      <td>-0.083639</td>\n",
       "      <td>-0.211624</td>\n",
       "      <td>0.073092</td>\n",
       "      <td>1.000000</td>\n",
       "      <td>0.150822</td>\n",
       "      <td>0.117337</td>\n",
       "      <td>-0.057939</td>\n",
       "      <td>0.000192</td>\n",
       "      <td>-0.032934</td>\n",
       "      <td>NaN</td>\n",
       "      <td>0.167075</td>\n",
       "      <td>-0.159384</td>\n",
       "      <td>0.119926</td>\n",
       "    </tr>\n",
       "    <tr>\n",
       "      <th>Month</th>\n",
       "      <td>-0.095450</td>\n",
       "      <td>-0.354560</td>\n",
       "      <td>-0.341759</td>\n",
       "      <td>-0.068854</td>\n",
       "      <td>0.181485</td>\n",
       "      <td>0.150822</td>\n",
       "      <td>1.000000</td>\n",
       "      <td>0.038027</td>\n",
       "      <td>-0.005396</td>\n",
       "      <td>0.000168</td>\n",
       "      <td>0.220563</td>\n",
       "      <td>NaN</td>\n",
       "      <td>0.952472</td>\n",
       "      <td>-0.784783</td>\n",
       "      <td>0.541883</td>\n",
       "    </tr>\n",
       "    <tr>\n",
       "      <th>Day</th>\n",
       "      <td>0.039978</td>\n",
       "      <td>-0.123705</td>\n",
       "      <td>-0.024633</td>\n",
       "      <td>0.014637</td>\n",
       "      <td>-0.082354</td>\n",
       "      <td>0.117337</td>\n",
       "      <td>0.038027</td>\n",
       "      <td>1.000000</td>\n",
       "      <td>-0.008010</td>\n",
       "      <td>-0.000196</td>\n",
       "      <td>0.089078</td>\n",
       "      <td>NaN</td>\n",
       "      <td>0.274522</td>\n",
       "      <td>-0.263575</td>\n",
       "      <td>0.265662</td>\n",
       "    </tr>\n",
       "    <tr>\n",
       "      <th>Hour</th>\n",
       "      <td>0.004398</td>\n",
       "      <td>0.197464</td>\n",
       "      <td>0.091069</td>\n",
       "      <td>0.077899</td>\n",
       "      <td>-0.077969</td>\n",
       "      <td>-0.057939</td>\n",
       "      <td>-0.005396</td>\n",
       "      <td>-0.008010</td>\n",
       "      <td>1.000000</td>\n",
       "      <td>-0.004052</td>\n",
       "      <td>0.004199</td>\n",
       "      <td>NaN</td>\n",
       "      <td>-0.006772</td>\n",
       "      <td>0.008629</td>\n",
       "      <td>-0.007056</td>\n",
       "    </tr>\n",
       "    <tr>\n",
       "      <th>Minute</th>\n",
       "      <td>-0.000730</td>\n",
       "      <td>-0.001934</td>\n",
       "      <td>0.001860</td>\n",
       "      <td>0.000499</td>\n",
       "      <td>-0.000602</td>\n",
       "      <td>0.000192</td>\n",
       "      <td>0.000168</td>\n",
       "      <td>-0.000196</td>\n",
       "      <td>-0.004052</td>\n",
       "      <td>1.000000</td>\n",
       "      <td>0.002517</td>\n",
       "      <td>NaN</td>\n",
       "      <td>-0.000158</td>\n",
       "      <td>0.001052</td>\n",
       "      <td>-0.002215</td>\n",
       "    </tr>\n",
       "    <tr>\n",
       "      <th>Second</th>\n",
       "      <td>-0.031270</td>\n",
       "      <td>-0.036147</td>\n",
       "      <td>-0.031102</td>\n",
       "      <td>-0.027682</td>\n",
       "      <td>-0.032568</td>\n",
       "      <td>-0.032934</td>\n",
       "      <td>0.220563</td>\n",
       "      <td>0.089078</td>\n",
       "      <td>0.004199</td>\n",
       "      <td>0.002517</td>\n",
       "      <td>1.000000</td>\n",
       "      <td>NaN</td>\n",
       "      <td>0.258917</td>\n",
       "      <td>-0.037743</td>\n",
       "      <td>0.003571</td>\n",
       "    </tr>\n",
       "    <tr>\n",
       "      <th>risehour</th>\n",
       "      <td>NaN</td>\n",
       "      <td>NaN</td>\n",
       "      <td>NaN</td>\n",
       "      <td>NaN</td>\n",
       "      <td>NaN</td>\n",
       "      <td>NaN</td>\n",
       "      <td>NaN</td>\n",
       "      <td>NaN</td>\n",
       "      <td>NaN</td>\n",
       "      <td>NaN</td>\n",
       "      <td>NaN</td>\n",
       "      <td>NaN</td>\n",
       "      <td>NaN</td>\n",
       "      <td>NaN</td>\n",
       "      <td>NaN</td>\n",
       "    </tr>\n",
       "    <tr>\n",
       "      <th>riseminuter</th>\n",
       "      <td>-0.092850</td>\n",
       "      <td>-0.380968</td>\n",
       "      <td>-0.380399</td>\n",
       "      <td>-0.023955</td>\n",
       "      <td>0.176929</td>\n",
       "      <td>0.167075</td>\n",
       "      <td>0.952472</td>\n",
       "      <td>0.274522</td>\n",
       "      <td>-0.006772</td>\n",
       "      <td>-0.000158</td>\n",
       "      <td>0.258917</td>\n",
       "      <td>NaN</td>\n",
       "      <td>1.000000</td>\n",
       "      <td>-0.742329</td>\n",
       "      <td>0.562851</td>\n",
       "    </tr>\n",
       "    <tr>\n",
       "      <th>sethour</th>\n",
       "      <td>0.048719</td>\n",
       "      <td>0.300920</td>\n",
       "      <td>0.151939</td>\n",
       "      <td>0.145143</td>\n",
       "      <td>-0.078540</td>\n",
       "      <td>-0.159384</td>\n",
       "      <td>-0.784783</td>\n",
       "      <td>-0.263575</td>\n",
       "      <td>0.008629</td>\n",
       "      <td>0.001052</td>\n",
       "      <td>-0.037743</td>\n",
       "      <td>NaN</td>\n",
       "      <td>-0.742329</td>\n",
       "      <td>1.000000</td>\n",
       "      <td>-0.873471</td>\n",
       "    </tr>\n",
       "    <tr>\n",
       "      <th>setminute</th>\n",
       "      <td>-0.039816</td>\n",
       "      <td>-0.242881</td>\n",
       "      <td>-0.119599</td>\n",
       "      <td>-0.119526</td>\n",
       "      <td>0.070030</td>\n",
       "      <td>0.119926</td>\n",
       "      <td>0.541883</td>\n",
       "      <td>0.265662</td>\n",
       "      <td>-0.007056</td>\n",
       "      <td>-0.002215</td>\n",
       "      <td>0.003571</td>\n",
       "      <td>NaN</td>\n",
       "      <td>0.562851</td>\n",
       "      <td>-0.873471</td>\n",
       "      <td>1.000000</td>\n",
       "    </tr>\n",
       "  </tbody>\n",
       "</table>\n",
       "</div>"
      ],
      "text/plain": [
       "                        Radiation  Temperature  Pressure  Humidity  \\\n",
       "Radiation                1.000000     0.734955  0.119016 -0.226171   \n",
       "Temperature              0.734955     1.000000  0.311173 -0.285055   \n",
       "Pressure                 0.119016     0.311173  1.000000 -0.223973   \n",
       "Humidity                -0.226171    -0.285055 -0.223973  1.000000   \n",
       "WindDirection(Degrees)  -0.230324    -0.259421 -0.229010 -0.001833   \n",
       "Speed                    0.073627    -0.031458 -0.083639 -0.211624   \n",
       "Month                   -0.095450    -0.354560 -0.341759 -0.068854   \n",
       "Day                      0.039978    -0.123705 -0.024633  0.014637   \n",
       "Hour                     0.004398     0.197464  0.091069  0.077899   \n",
       "Minute                  -0.000730    -0.001934  0.001860  0.000499   \n",
       "Second                  -0.031270    -0.036147 -0.031102 -0.027682   \n",
       "risehour                      NaN          NaN       NaN       NaN   \n",
       "riseminuter             -0.092850    -0.380968 -0.380399 -0.023955   \n",
       "sethour                  0.048719     0.300920  0.151939  0.145143   \n",
       "setminute               -0.039816    -0.242881 -0.119599 -0.119526   \n",
       "\n",
       "                        WindDirection(Degrees)     Speed     Month       Day  \\\n",
       "Radiation                            -0.230324  0.073627 -0.095450  0.039978   \n",
       "Temperature                          -0.259421 -0.031458 -0.354560 -0.123705   \n",
       "Pressure                             -0.229010 -0.083639 -0.341759 -0.024633   \n",
       "Humidity                             -0.001833 -0.211624 -0.068854  0.014637   \n",
       "WindDirection(Degrees)                1.000000  0.073092  0.181485 -0.082354   \n",
       "Speed                                 0.073092  1.000000  0.150822  0.117337   \n",
       "Month                                 0.181485  0.150822  1.000000  0.038027   \n",
       "Day                                  -0.082354  0.117337  0.038027  1.000000   \n",
       "Hour                                 -0.077969 -0.057939 -0.005396 -0.008010   \n",
       "Minute                               -0.000602  0.000192  0.000168 -0.000196   \n",
       "Second                               -0.032568 -0.032934  0.220563  0.089078   \n",
       "risehour                                   NaN       NaN       NaN       NaN   \n",
       "riseminuter                           0.176929  0.167075  0.952472  0.274522   \n",
       "sethour                              -0.078540 -0.159384 -0.784783 -0.263575   \n",
       "setminute                             0.070030  0.119926  0.541883  0.265662   \n",
       "\n",
       "                            Hour    Minute    Second  risehour  riseminuter  \\\n",
       "Radiation               0.004398 -0.000730 -0.031270       NaN    -0.092850   \n",
       "Temperature             0.197464 -0.001934 -0.036147       NaN    -0.380968   \n",
       "Pressure                0.091069  0.001860 -0.031102       NaN    -0.380399   \n",
       "Humidity                0.077899  0.000499 -0.027682       NaN    -0.023955   \n",
       "WindDirection(Degrees) -0.077969 -0.000602 -0.032568       NaN     0.176929   \n",
       "Speed                  -0.057939  0.000192 -0.032934       NaN     0.167075   \n",
       "Month                  -0.005396  0.000168  0.220563       NaN     0.952472   \n",
       "Day                    -0.008010 -0.000196  0.089078       NaN     0.274522   \n",
       "Hour                    1.000000 -0.004052  0.004199       NaN    -0.006772   \n",
       "Minute                 -0.004052  1.000000  0.002517       NaN    -0.000158   \n",
       "Second                  0.004199  0.002517  1.000000       NaN     0.258917   \n",
       "risehour                     NaN       NaN       NaN       NaN          NaN   \n",
       "riseminuter            -0.006772 -0.000158  0.258917       NaN     1.000000   \n",
       "sethour                 0.008629  0.001052 -0.037743       NaN    -0.742329   \n",
       "setminute              -0.007056 -0.002215  0.003571       NaN     0.562851   \n",
       "\n",
       "                         sethour  setminute  \n",
       "Radiation               0.048719  -0.039816  \n",
       "Temperature             0.300920  -0.242881  \n",
       "Pressure                0.151939  -0.119599  \n",
       "Humidity                0.145143  -0.119526  \n",
       "WindDirection(Degrees) -0.078540   0.070030  \n",
       "Speed                  -0.159384   0.119926  \n",
       "Month                  -0.784783   0.541883  \n",
       "Day                    -0.263575   0.265662  \n",
       "Hour                    0.008629  -0.007056  \n",
       "Minute                  0.001052  -0.002215  \n",
       "Second                 -0.037743   0.003571  \n",
       "risehour                     NaN        NaN  \n",
       "riseminuter            -0.742329   0.562851  \n",
       "sethour                 1.000000  -0.873471  \n",
       "setminute              -0.873471   1.000000  "
      ]
     },
     "execution_count": 108,
     "metadata": {},
     "output_type": "execute_result"
    }
   ],
   "source": [
    "# extract the correlation between the data features\n",
    "corr_matrix = df.corr()\n",
    "corr_matrix"
   ]
  },
  {
   "cell_type": "code",
   "execution_count": 69,
   "metadata": {},
   "outputs": [
    {
     "data": {
      "image/png": "[encoded data removed]",
      "text/plain": [
       "<Figure size 1440x1440 with 2 Axes>"
      ]
     },
     "metadata": {
      "needs_background": "light"
     },
     "output_type": "display_data"
    }
   ],
   "source": [
    "# plot the correlation matrix using heatmap for clear understanding\n",
    "plt.figure(figsize=(20,20))\n",
    "sns.heatmap(df.corr(), annot=True)\n",
    "plt.show()"
   ]
  },
  {
   "cell_type": "markdown",
   "metadata": {},
   "source": [
    "# Feature Selection using SelectKBest Method"
   ]
  },
  {
   "cell_type": "code",
   "execution_count": 160,
   "metadata": {},
   "outputs": [],
   "source": [
    "bestfeatures = SelectKBest(score_func = chi2, k = 10)"
   ]
  },
  {
   "cell_type": "markdown",
   "metadata": {},
   "source": [
    "It works on the target label but instead we are passsing continuous float values to it. So, we need to convert our data to label form and there are two methods as follows:\n",
    "- usign LabelEncoder\n",
    "- multiplying the data by 100 and converting it to int which can be treated as labels by the model"
   ]
  },
  {
   "cell_type": "code",
   "execution_count": 161,
   "metadata": {},
   "outputs": [],
   "source": [
    "# use the label encoder\n",
    "from sklearn import preprocessing\n",
    "label_encoder = preprocessing.LabelEncoder()\n",
    "train_Y = label_encoder.fit_transform(target)"
   ]
  },
  {
   "cell_type": "code",
   "execution_count": 169,
   "metadata": {},
   "outputs": [],
   "source": [
    "target_cont = df['Radiation'].apply(lambda x : int(x*100))\n",
    "scaled_input_features = MinMaxScaler().fit_transform(input_features)\n",
    "fit = bestfeatures.fit(scaled_input_features, target_cont)"
   ]
  },
  {
   "cell_type": "code",
   "execution_count": 170,
   "metadata": {},
   "outputs": [],
   "source": [
    "scores = pd.DataFrame(fit.scores_)\n",
    "column = pd.DataFrame(input_features.columns)"
   ]
  },
  {
   "cell_type": "code",
   "execution_count": 171,
   "metadata": {},
   "outputs": [],
   "source": [
    "# contatinating data_features with the scores\n",
    "featureScores = pd.concat([column, scores], axis=1)\n",
    "\n",
    "#naming the dataframe columns\n",
    "featureScores.columns = ['Features', 'feature_imp'] "
   ]
  },
  {
   "cell_type": "code",
   "execution_count": 172,
   "metadata": {},
   "outputs": [
    {
     "data": {
      "text/html": [
       "<div>\n",
       "<style scoped>\n",
       "    .dataframe tbody tr th:only-of-type {\n",
       "        vertical-align: middle;\n",
       "    }\n",
       "\n",
       "    .dataframe tbody tr th {\n",
       "        vertical-align: top;\n",
       "    }\n",
       "\n",
       "    .dataframe thead th {\n",
       "        text-align: right;\n",
       "    }\n",
       "</style>\n",
       "<table border=\"1\" class=\"dataframe\">\n",
       "  <thead>\n",
       "    <tr style=\"text-align: right;\">\n",
       "      <th></th>\n",
       "      <th>Features</th>\n",
       "      <th>feature_imp</th>\n",
       "    </tr>\n",
       "  </thead>\n",
       "  <tbody>\n",
       "    <tr>\n",
       "      <th>12</th>\n",
       "      <td>sethour</td>\n",
       "      <td>12207.531454</td>\n",
       "    </tr>\n",
       "    <tr>\n",
       "      <th>5</th>\n",
       "      <td>Month</td>\n",
       "      <td>4684.579610</td>\n",
       "    </tr>\n",
       "    <tr>\n",
       "      <th>11</th>\n",
       "      <td>riseminuter</td>\n",
       "      <td>4015.062771</td>\n",
       "    </tr>\n",
       "    <tr>\n",
       "      <th>3</th>\n",
       "      <td>WindDirection(Degrees)</td>\n",
       "      <td>3271.827277</td>\n",
       "    </tr>\n",
       "    <tr>\n",
       "      <th>6</th>\n",
       "      <td>Day</td>\n",
       "      <td>2841.926850</td>\n",
       "    </tr>\n",
       "    <tr>\n",
       "      <th>8</th>\n",
       "      <td>Minute</td>\n",
       "      <td>2702.449333</td>\n",
       "    </tr>\n",
       "    <tr>\n",
       "      <th>9</th>\n",
       "      <td>Second</td>\n",
       "      <td>2288.673032</td>\n",
       "    </tr>\n",
       "    <tr>\n",
       "      <th>13</th>\n",
       "      <td>setminute</td>\n",
       "      <td>1863.712087</td>\n",
       "    </tr>\n",
       "    <tr>\n",
       "      <th>0</th>\n",
       "      <td>Temperature</td>\n",
       "      <td>1651.685632</td>\n",
       "    </tr>\n",
       "    <tr>\n",
       "      <th>2</th>\n",
       "      <td>Humidity</td>\n",
       "      <td>1588.087433</td>\n",
       "    </tr>\n",
       "    <tr>\n",
       "      <th>4</th>\n",
       "      <td>Speed</td>\n",
       "      <td>765.859779</td>\n",
       "    </tr>\n",
       "    <tr>\n",
       "      <th>7</th>\n",
       "      <td>Hour</td>\n",
       "      <td>691.185393</td>\n",
       "    </tr>\n",
       "    <tr>\n",
       "      <th>1</th>\n",
       "      <td>Pressure</td>\n",
       "      <td>523.791060</td>\n",
       "    </tr>\n",
       "    <tr>\n",
       "      <th>10</th>\n",
       "      <td>risehour</td>\n",
       "      <td>NaN</td>\n",
       "    </tr>\n",
       "  </tbody>\n",
       "</table>\n",
       "</div>"
      ],
      "text/plain": [
       "                  Features   feature_imp\n",
       "12                 sethour  12207.531454\n",
       "5                    Month   4684.579610\n",
       "11             riseminuter   4015.062771\n",
       "3   WindDirection(Degrees)   3271.827277\n",
       "6                      Day   2841.926850\n",
       "8                   Minute   2702.449333\n",
       "9                   Second   2288.673032\n",
       "13               setminute   1863.712087\n",
       "0              Temperature   1651.685632\n",
       "2                 Humidity   1588.087433\n",
       "4                    Speed    765.859779\n",
       "7                     Hour    691.185393\n",
       "1                 Pressure    523.791060\n",
       "10                risehour           NaN"
      ]
     },
     "execution_count": 172,
     "metadata": {},
     "output_type": "execute_result"
    }
   ],
   "source": [
    "# best features\n",
    "featureScores.sort_values(by = 'feature_imp', ascending=False, inplace=True)\n",
    "featureScores"
   ]
  },
  {
   "cell_type": "code",
   "execution_count": 174,
   "metadata": {},
   "outputs": [
    {
     "data": {
      "image/png": "[encoded data removed]",
      "text/plain": [
       "<Figure size 720x432 with 1 Axes>"
      ]
     },
     "metadata": {
      "needs_background": "light"
     },
     "output_type": "display_data"
    }
   ],
   "source": [
    "# visualise the feature importance\n",
    "plt.figure(figsize = (10, 6))\n",
    "plt.bar(featureScores.Features, featureScores.feature_imp)\n",
    "plt.xticks(rotation = 70)\n",
    "plt.xlabel(\"Features\")\n",
    "plt.ylabel(\"Importance\")\n",
    "plt.title(\"Feature Importance using Extra Tree Classifier\")\n",
    "plt.show()"
   ]
  },
  {
   "cell_type": "markdown",
   "metadata": {},
   "source": [
    "# Feature Selection using Extra Tree Classifier"
   ]
  },
  {
   "cell_type": "code",
   "execution_count": 180,
   "metadata": {},
   "outputs": [
    {
     "name": "stderr",
     "output_type": "stream",
     "text": [
      "[Parallel(n_jobs=1)]: Using backend SequentialBackend with 1 concurrent workers.\n"
     ]
    },
    {
     "name": "stdout",
     "output_type": "stream",
     "text": [
      "building tree 1 of 10\n"
     ]
    },
    {
     "name": "stderr",
     "output_type": "stream",
     "text": [
      "[Parallel(n_jobs=1)]: Done   1 out of   1 | elapsed:    6.1s remaining:    0.0s\n"
     ]
    },
    {
     "name": "stdout",
     "output_type": "stream",
     "text": [
      "building tree 2 of 10\n",
      "building tree 3 of 10\n",
      "building tree 4 of 10\n",
      "building tree 5 of 10\n",
      "building tree 6 of 10\n",
      "building tree 7 of 10\n",
      "building tree 8 of 10\n",
      "building tree 9 of 10\n",
      "building tree 10 of 10\n"
     ]
    },
    {
     "name": "stderr",
     "output_type": "stream",
     "text": [
      "[Parallel(n_jobs=1)]: Done  10 out of  10 | elapsed:  1.0min finished\n"
     ]
    },
    {
     "data": {
      "text/plain": [
       "ExtraTreesClassifier(n_estimators=10, verbose=2)"
      ]
     },
     "execution_count": 180,
     "metadata": {},
     "output_type": "execute_result"
    }
   ],
   "source": [
    "model = ExtraTreesClassifier(verbose = 2, n_estimators = 10)\n",
    "model.fit(scaled_input_features, target_cont)"
   ]
  },
  {
   "cell_type": "code",
   "execution_count": 181,
   "metadata": {},
   "outputs": [
    {
     "data": {
      "text/html": [
       "<div>\n",
       "<style scoped>\n",
       "    .dataframe tbody tr th:only-of-type {\n",
       "        vertical-align: middle;\n",
       "    }\n",
       "\n",
       "    .dataframe tbody tr th {\n",
       "        vertical-align: top;\n",
       "    }\n",
       "\n",
       "    .dataframe thead th {\n",
       "        text-align: right;\n",
       "    }\n",
       "</style>\n",
       "<table border=\"1\" class=\"dataframe\">\n",
       "  <thead>\n",
       "    <tr style=\"text-align: right;\">\n",
       "      <th></th>\n",
       "      <th>feature_imp</th>\n",
       "    </tr>\n",
       "  </thead>\n",
       "  <tbody>\n",
       "    <tr>\n",
       "      <th>WindDirection(Degrees)</th>\n",
       "      <td>0.158561</td>\n",
       "    </tr>\n",
       "    <tr>\n",
       "      <th>Minute</th>\n",
       "      <td>0.147512</td>\n",
       "    </tr>\n",
       "    <tr>\n",
       "      <th>Speed</th>\n",
       "      <td>0.123968</td>\n",
       "    </tr>\n",
       "    <tr>\n",
       "      <th>Second</th>\n",
       "      <td>0.123245</td>\n",
       "    </tr>\n",
       "    <tr>\n",
       "      <th>Humidity</th>\n",
       "      <td>0.109846</td>\n",
       "    </tr>\n",
       "    <tr>\n",
       "      <th>Hour</th>\n",
       "      <td>0.092982</td>\n",
       "    </tr>\n",
       "    <tr>\n",
       "      <th>Temperature</th>\n",
       "      <td>0.082955</td>\n",
       "    </tr>\n",
       "    <tr>\n",
       "      <th>Pressure</th>\n",
       "      <td>0.075890</td>\n",
       "    </tr>\n",
       "    <tr>\n",
       "      <th>Day</th>\n",
       "      <td>0.034581</td>\n",
       "    </tr>\n",
       "    <tr>\n",
       "      <th>setminute</th>\n",
       "      <td>0.023260</td>\n",
       "    </tr>\n",
       "    <tr>\n",
       "      <th>riseminuter</th>\n",
       "      <td>0.022119</td>\n",
       "    </tr>\n",
       "    <tr>\n",
       "      <th>Month</th>\n",
       "      <td>0.003720</td>\n",
       "    </tr>\n",
       "    <tr>\n",
       "      <th>sethour</th>\n",
       "      <td>0.001361</td>\n",
       "    </tr>\n",
       "    <tr>\n",
       "      <th>risehour</th>\n",
       "      <td>0.000000</td>\n",
       "    </tr>\n",
       "  </tbody>\n",
       "</table>\n",
       "</div>"
      ],
      "text/plain": [
       "                        feature_imp\n",
       "WindDirection(Degrees)     0.158561\n",
       "Minute                     0.147512\n",
       "Speed                      0.123968\n",
       "Second                     0.123245\n",
       "Humidity                   0.109846\n",
       "Hour                       0.092982\n",
       "Temperature                0.082955\n",
       "Pressure                   0.075890\n",
       "Day                        0.034581\n",
       "setminute                  0.023260\n",
       "riseminuter                0.022119\n",
       "Month                      0.003720\n",
       "sethour                    0.001361\n",
       "risehour                   0.000000"
      ]
     },
     "execution_count": 181,
     "metadata": {},
     "output_type": "execute_result"
    }
   ],
   "source": [
    "feature_importances = pd.DataFrame(model.feature_importances_, index = input_features.columns, columns = [\"feature_imp\"])\n",
    "feature_importances.sort_values(by = 'feature_imp', ascending=False, inplace = True)\n",
    "feature_importances"
   ]
  },
  {
   "cell_type": "code",
   "execution_count": 182,
   "metadata": {},
   "outputs": [
    {
     "data": {
      "image/png": "[encoded data removed]",
      "text/plain": [
       "<Figure size 720x432 with 1 Axes>"
      ]
     },
     "metadata": {
      "needs_background": "light"
     },
     "output_type": "display_data"
    }
   ],
   "source": [
    "plt.figure(figsize = (10, 6))\n",
    "plt.bar(feature_importances.index, feature_importances[\"feature_imp\"])\n",
    "plt.xticks(rotation = 70)\n",
    "plt.xlabel(\"Features\")\n",
    "plt.ylabel(\"Importance\")\n",
    "plt.title(\"Feature Importance using Extra Tree Classifier\")\n",
    "plt.show()"
   ]
  },
  {
   "cell_type": "markdown",
   "metadata": {},
   "source": [
    "# Feature Engineering with BoxCox, Log, Min-Max and Standard transformation"
   ]
  },
  {
   "cell_type": "code",
   "execution_count": 206,
   "metadata": {},
   "outputs": [
    {
     "data": {
      "image/png": "[encoded data removed]",
      "text/plain": [
       "<Figure size 720x360 with 5 Axes>"
      ]
     },
     "metadata": {
      "needs_background": "light"
     },
     "output_type": "display_data"
    },
    {
     "data": {
      "image/png": "[encoded data removed]",
      "text/plain": [
       "<Figure size 720x360 with 5 Axes>"
      ]
     },
     "metadata": {
      "needs_background": "light"
     },
     "output_type": "display_data"
    },
    {
     "data": {
      "image/png": "[encoded data removed]",
      "text/plain": [
       "<Figure size 720x360 with 5 Axes>"
      ]
     },
     "metadata": {
      "needs_background": "light"
     },
     "output_type": "display_data"
    },
    {
     "data": {
      "image/png": "[encoded data removed]",
      "text/plain": [
       "<Figure size 720x360 with 5 Axes>"
      ]
     },
     "metadata": {
      "needs_background": "light"
     },
     "output_type": "display_data"
    },
    {
     "data": {
      "image/png": "[encoded data removed]",
      "text/plain": [
       "<Figure size 720x360 with 5 Axes>"
      ]
     },
     "metadata": {
      "needs_background": "light"
     },
     "output_type": "display_data"
    }
   ],
   "source": [
    "# Looking for transformation\n",
    "features_to_transform = ['Temperature', 'Pressure', 'Humidity', 'Speed', 'WindDirection(Degrees)']\n",
    "\n",
    "for i in features_to_transform:\n",
    "    \n",
    "    fig, (ax1, ax2, ax3, ax4, ax5) = plt.subplots(5, 1, figsize=(10, 5))\n",
    "    \n",
    "    pd.DataFrame(input_features[i]).hist(ax = ax1, bins = 50)\n",
    "    pd.DataFrame((input_features[i]+1).transform(np.log)).hist(ax = ax2, bins = 50)\n",
    "    pd.DataFrame(stats.boxcox(input_features[i]+1)[0]).hist(ax = ax3, bins = 50)    \n",
    "    pd.DataFrame(StandardScaler().fit_transform(np.array(input_features[i]).reshape(-1, 1))).hist(ax = ax4, bins = 50)\n",
    "    pd.DataFrame(MinMaxScaler().fit_transform(np.array(input_features[i]).reshape(-1, 1))).hist(ax = ax5, bins = 50)\n",
    "    \n",
    "    ax1.set_ylabel('Normal')\n",
    "    ax2.set_ylabel('Log')\n",
    "    ax3.set_ylabel('Box Cox')\n",
    "    ax4.set_ylabel('Standard')\n",
    "    ax5.set_ylabel('MinMax')"
   ]
  },
  {
   "cell_type": "code",
   "execution_count": 207,
   "metadata": {},
   "outputs": [],
   "source": [
    "# set the transformations required\n",
    "transform = {'Temperature' : (input_features['Temperature']+1).transform(np.log), \n",
    "             'Pressure': stats.boxcox(input_features['Pressure']+1)[0], \n",
    "            'Humidity' : stats.boxcox(input_features['Humidity']+1)[0], \n",
    "            'Speed' : (input_features['Speed']+1).transform(np.log), \n",
    "            'WindDirection(Degrees)' : MinMaxScaler().fit_transform(\n",
    "                np.array(input_features['WindDirection(Degrees)']).reshape(-1, 1))}\n",
    "\n",
    "for i in transform:\n",
    "    input_features[i] = transform[i]"
   ]
  },
  {
   "cell_type": "code",
   "execution_count": 208,
   "metadata": {},
   "outputs": [
    {
     "data": {
      "text/html": [
       "<div>\n",
       "<style scoped>\n",
       "    .dataframe tbody tr th:only-of-type {\n",
       "        vertical-align: middle;\n",
       "    }\n",
       "\n",
       "    .dataframe tbody tr th {\n",
       "        vertical-align: top;\n",
       "    }\n",
       "\n",
       "    .dataframe thead th {\n",
       "        text-align: right;\n",
       "    }\n",
       "</style>\n",
       "<table border=\"1\" class=\"dataframe\">\n",
       "  <thead>\n",
       "    <tr style=\"text-align: right;\">\n",
       "      <th></th>\n",
       "      <th>Temperature</th>\n",
       "      <th>Pressure</th>\n",
       "      <th>Humidity</th>\n",
       "      <th>WindDirection(Degrees)</th>\n",
       "      <th>Speed</th>\n",
       "      <th>Month</th>\n",
       "      <th>Day</th>\n",
       "      <th>Hour</th>\n",
       "      <th>Minute</th>\n",
       "      <th>Second</th>\n",
       "      <th>risehour</th>\n",
       "      <th>riseminuter</th>\n",
       "      <th>sethour</th>\n",
       "      <th>setminute</th>\n",
       "    </tr>\n",
       "  </thead>\n",
       "  <tbody>\n",
       "    <tr>\n",
       "      <th>0</th>\n",
       "      <td>0.413264</td>\n",
       "      <td>5.044903e+152</td>\n",
       "      <td>1141.775867</td>\n",
       "      <td>0.492692</td>\n",
       "      <td>0.360847</td>\n",
       "      <td>9</td>\n",
       "      <td>29</td>\n",
       "      <td>23</td>\n",
       "      <td>22.145042</td>\n",
       "      <td>26</td>\n",
       "      <td>6</td>\n",
       "      <td>13</td>\n",
       "      <td>18</td>\n",
       "      <td>13</td>\n",
       "    </tr>\n",
       "    <tr>\n",
       "      <th>1</th>\n",
       "      <td>0.413264</td>\n",
       "      <td>5.044903e+152</td>\n",
       "      <td>1106.377133</td>\n",
       "      <td>0.490996</td>\n",
       "      <td>0.339319</td>\n",
       "      <td>9</td>\n",
       "      <td>29</td>\n",
       "      <td>23</td>\n",
       "      <td>20.661485</td>\n",
       "      <td>23</td>\n",
       "      <td>6</td>\n",
       "      <td>13</td>\n",
       "      <td>18</td>\n",
       "      <td>13</td>\n",
       "    </tr>\n",
       "    <tr>\n",
       "      <th>2</th>\n",
       "      <td>0.413264</td>\n",
       "      <td>5.044903e+152</td>\n",
       "      <td>1071.498314</td>\n",
       "      <td>0.440894</td>\n",
       "      <td>0.339319</td>\n",
       "      <td>9</td>\n",
       "      <td>29</td>\n",
       "      <td>23</td>\n",
       "      <td>19.132762</td>\n",
       "      <td>26</td>\n",
       "      <td>6</td>\n",
       "      <td>13</td>\n",
       "      <td>18</td>\n",
       "      <td>13</td>\n",
       "    </tr>\n",
       "    <tr>\n",
       "      <th>3</th>\n",
       "      <td>0.413264</td>\n",
       "      <td>5.044903e+152</td>\n",
       "      <td>1177.693409</td>\n",
       "      <td>0.382426</td>\n",
       "      <td>0.339319</td>\n",
       "      <td>9</td>\n",
       "      <td>29</td>\n",
       "      <td>23</td>\n",
       "      <td>17.552332</td>\n",
       "      <td>21</td>\n",
       "      <td>6</td>\n",
       "      <td>13</td>\n",
       "      <td>18</td>\n",
       "      <td>13</td>\n",
       "    </tr>\n",
       "    <tr>\n",
       "      <th>4</th>\n",
       "      <td>0.413264</td>\n",
       "      <td>5.044903e+152</td>\n",
       "      <td>1251.080579</td>\n",
       "      <td>0.291391</td>\n",
       "      <td>0.360847</td>\n",
       "      <td>9</td>\n",
       "      <td>29</td>\n",
       "      <td>23</td>\n",
       "      <td>15.911768</td>\n",
       "      <td>24</td>\n",
       "      <td>6</td>\n",
       "      <td>13</td>\n",
       "      <td>18</td>\n",
       "      <td>13</td>\n",
       "    </tr>\n",
       "  </tbody>\n",
       "</table>\n",
       "</div>"
      ],
      "text/plain": [
       "   Temperature       Pressure     Humidity  WindDirection(Degrees)     Speed  \\\n",
       "0     0.413264  5.044903e+152  1141.775867                0.492692  0.360847   \n",
       "1     0.413264  5.044903e+152  1106.377133                0.490996  0.339319   \n",
       "2     0.413264  5.044903e+152  1071.498314                0.440894  0.339319   \n",
       "3     0.413264  5.044903e+152  1177.693409                0.382426  0.339319   \n",
       "4     0.413264  5.044903e+152  1251.080579                0.291391  0.360847   \n",
       "\n",
       "   Month  Day  Hour     Minute  Second  risehour  riseminuter  sethour  \\\n",
       "0      9   29    23  22.145042      26         6           13       18   \n",
       "1      9   29    23  20.661485      23         6           13       18   \n",
       "2      9   29    23  19.132762      26         6           13       18   \n",
       "3      9   29    23  17.552332      21         6           13       18   \n",
       "4      9   29    23  15.911768      24         6           13       18   \n",
       "\n",
       "   setminute  \n",
       "0         13  \n",
       "1         13  \n",
       "2         13  \n",
       "3         13  \n",
       "4         13  "
      ]
     },
     "execution_count": 208,
     "metadata": {},
     "output_type": "execute_result"
    }
   ],
   "source": [
    "input_features.head()"
   ]
  },
  {
   "cell_type": "markdown",
   "metadata": {},
   "source": [
    "# Preparing data - Standardisation and Splitting"
   ]
  },
  {
   "cell_type": "code",
   "execution_count": 227,
   "metadata": {},
   "outputs": [],
   "source": [
    "xtrain, xtest, ytrain, ytest = train_test_split(input_features, target, test_size=0.2, random_state=1)\n",
    "\n",
    "scaler = StandardScaler()\n",
    "xtrain = scaler.fit_transform(xtrain)\n",
    "xtest = scaler.transform(xtest)"
   ]
  },
  {
   "cell_type": "code",
   "execution_count": 235,
   "metadata": {},
   "outputs": [
    {
     "data": {
      "text/plain": [
       "((26148, 14), (6538, 14))"
      ]
     },
     "execution_count": 235,
     "metadata": {},
     "output_type": "execute_result"
    }
   ],
   "source": [
    "xtrain.shape, xtest.shape"
   ]
  },
  {
   "cell_type": "markdown",
   "metadata": {},
   "source": [
    "# Prediction with XGBoost"
   ]
  },
  {
   "cell_type": "code",
   "execution_count": 252,
   "metadata": {},
   "outputs": [],
   "source": [
    "# declare parameters\n",
    "params = {\n",
    "    'learning_rate': 0.1,\n",
    "    'max_depth': 8}\n",
    "\n",
    "from xgboost import XGBRegressor\n",
    "model = XGBRegressor(**params)"
   ]
  },
  {
   "cell_type": "code",
   "execution_count": 253,
   "metadata": {},
   "outputs": [
    {
     "data": {
      "text/plain": [
       "XGBRegressor(base_score=0.5, booster='gbtree', colsample_bylevel=1,\n",
       "             colsample_bynode=1, colsample_bytree=1, enable_categorical=False,\n",
       "             gamma=0, gpu_id=-1, importance_type=None,\n",
       "             interaction_constraints='', learning_rate=0.1, max_delta_step=0,\n",
       "             max_depth=8, min_child_weight=1, missing=nan,\n",
       "             monotone_constraints='()', n_estimators=100, n_jobs=13,\n",
       "             num_parallel_tree=1, predictor='auto', random_state=0, reg_alpha=0,\n",
       "             reg_lambda=1, scale_pos_weight=1, subsample=1, tree_method='exact',\n",
       "             validate_parameters=1, verbosity=None)"
      ]
     },
     "execution_count": 253,
     "metadata": {},
     "output_type": "execute_result"
    }
   ],
   "source": [
    "# train the model\n",
    "model.fit(xtrain, ytrain)"
   ]
  },
  {
   "cell_type": "code",
   "execution_count": 256,
   "metadata": {},
   "outputs": [],
   "source": [
    "y_pred = model.predict(xtest)"
   ]
  },
  {
   "cell_type": "code",
   "execution_count": 257,
   "metadata": {},
   "outputs": [
    {
     "name": "stdout",
     "output_type": "stream",
     "text": [
      "XGBoost model result: 81.4440\n"
     ]
    }
   ],
   "source": [
    "print('XGBoost model result: {0:0.4f}'. format(np.sqrt(mean_squared_error(ytest, y_pred))))"
   ]
  },
  {
   "cell_type": "code",
   "execution_count": 258,
   "metadata": {},
   "outputs": [
    {
     "name": "stdout",
     "output_type": "stream",
     "text": [
      "Testing performance\n",
      "RMSE: 81.44\n",
      "R2: 0.93\n"
     ]
    }
   ],
   "source": [
    "rmse = np.sqrt(mean_squared_error(ytest, y_pred))\n",
    "r2 = r2_score(ytest, y_pred)\n",
    "\n",
    "print(\"Testing performance\")\n",
    "\n",
    "print(\"RMSE: {:.2f}\".format(rmse))\n",
    "print(\"R2: {:.2f}\".format(r2))"
   ]
  },
  {
   "cell_type": "markdown",
   "metadata": {},
   "source": [
    "# Using MultiLayer Perceptron for prediction"
   ]
  },
  {
   "cell_type": "code",
   "execution_count": 295,
   "metadata": {},
   "outputs": [],
   "source": [
    "xtrain, xtest, ytrain, ytest = train_test_split(input_features, target, test_size=0.2, random_state=1)\n",
    "\n",
    "scaler = StandardScaler()\n",
    "xtrain = scaler.fit_transform(xtrain)\n",
    "xtest = scaler.transform(xtest)"
   ]
  },
  {
   "cell_type": "code",
   "execution_count": 332,
   "metadata": {},
   "outputs": [
    {
     "name": "stdout",
     "output_type": "stream",
     "text": [
      "Model: \"sequential_20\"\n",
      "_________________________________________________________________\n",
      "Layer (type)                 Output Shape              Param #   \n",
      "=================================================================\n",
      "dense_79 (Dense)             (None, 128)               1920      \n",
      "_________________________________________________________________\n",
      "dropout_59 (Dropout)         (None, 128)               0         \n",
      "_________________________________________________________________\n",
      "dense_80 (Dense)             (None, 64)                8256      \n",
      "_________________________________________________________________\n",
      "dropout_60 (Dropout)         (None, 64)                0         \n",
      "_________________________________________________________________\n",
      "dense_81 (Dense)             (None, 32)                2080      \n",
      "_________________________________________________________________\n",
      "dropout_61 (Dropout)         (None, 32)                0         \n",
      "_________________________________________________________________\n",
      "dense_82 (Dense)             (None, 1)                 33        \n",
      "=================================================================\n",
      "Total params: 12,289\n",
      "Trainable params: 12,289\n",
      "Non-trainable params: 0\n",
      "_________________________________________________________________\n",
      "None\n"
     ]
    }
   ],
   "source": [
    "model = None\n",
    "model = Sequential()\n",
    "    \n",
    "model.add(Dense(128, activation='relu', input_dim=14))\n",
    "model.add(Dropout(0.33))\n",
    "    \n",
    "model.add(Dense(64, activation='relu'))\n",
    "model.add(Dropout(0.33))\n",
    "\n",
    "model.add(Dense(32, activation='relu'))\n",
    "model.add(Dropout(0.33))\n",
    "\n",
    "model.add(Dense(1, activation='linear'))\n",
    "    \n",
    "model.compile(metrics='mse', loss='mae', optimizer=Adam(learning_rate=0.001))\n",
    "print(model.summary())"
   ]
  },
  {
   "cell_type": "code",
   "execution_count": 334,
   "metadata": {
    "scrolled": true
   },
   "outputs": [
    {
     "name": "stdout",
     "output_type": "stream",
     "text": [
      "Epoch 1/50\n",
      "736/736 [==============================] - 1s 1ms/step - loss: 77.0724 - mse: 22450.2949 - val_loss: 60.5145 - val_mse: 14623.6143\n",
      "Epoch 2/50\n",
      "736/736 [==============================] - 1s 925us/step - loss: 73.7126 - mse: 21135.0723 - val_loss: 57.0598 - val_mse: 13359.2012\n",
      "Epoch 3/50\n",
      "736/736 [==============================] - 1s 866us/step - loss: 73.4762 - mse: 20975.4980 - val_loss: 56.2689 - val_mse: 13153.0127\n",
      "Epoch 4/50\n",
      "736/736 [==============================] - 1s 922us/step - loss: 70.8537 - mse: 19687.3379 - val_loss: 56.5140 - val_mse: 13439.2090\n",
      "Epoch 5/50\n",
      "736/736 [==============================] - 1s 891us/step - loss: 70.5504 - mse: 19798.8203 - val_loss: 52.0351 - val_mse: 11911.0508\n",
      "Epoch 6/50\n",
      "736/736 [==============================] - 1s 942us/step - loss: 69.6108 - mse: 19411.9590 - val_loss: 51.3607 - val_mse: 11713.5078\n",
      "Epoch 7/50\n",
      "736/736 [==============================] - 1s 939us/step - loss: 68.3939 - mse: 18717.3340 - val_loss: 50.1383 - val_mse: 11289.9922\n",
      "Epoch 8/50\n",
      "736/736 [==============================] - 1s 933us/step - loss: 68.3117 - mse: 18774.4414 - val_loss: 51.1353 - val_mse: 11579.8125\n",
      "Epoch 9/50\n",
      "736/736 [==============================] - 1s 877us/step - loss: 67.3591 - mse: 18315.0879 - val_loss: 52.8519 - val_mse: 12205.6240\n",
      "Epoch 10/50\n",
      "736/736 [==============================] - 1s 848us/step - loss: 67.1457 - mse: 18158.3535 - val_loss: 51.7748 - val_mse: 11889.8359\n",
      "Epoch 11/50\n",
      "736/736 [==============================] - 1s 879us/step - loss: 66.4651 - mse: 17934.0957 - val_loss: 49.7666 - val_mse: 11265.1025\n",
      "Epoch 12/50\n",
      "736/736 [==============================] - 1s 963us/step - loss: 66.1736 - mse: 17871.7988 - val_loss: 49.8094 - val_mse: 11456.9746\n",
      "Epoch 13/50\n",
      "736/736 [==============================] - 1s 1ms/step - loss: 65.4015 - mse: 17486.2637 - val_loss: 48.6689 - val_mse: 11157.5645\n",
      "Epoch 14/50\n",
      "736/736 [==============================] - 1s 925us/step - loss: 65.5265 - mse: 17615.4434 - val_loss: 48.5563 - val_mse: 10851.7666\n",
      "Epoch 15/50\n",
      "736/736 [==============================] - 1s 869us/step - loss: 64.8271 - mse: 17450.1055 - val_loss: 50.4920 - val_mse: 11390.1992\n",
      "Epoch 16/50\n",
      "736/736 [==============================] - 1s 877us/step - loss: 64.3580 - mse: 17148.0586 - val_loss: 48.5519 - val_mse: 10592.4404\n",
      "Epoch 17/50\n",
      "736/736 [==============================] - 1s 827us/step - loss: 64.3280 - mse: 17154.2012 - val_loss: 47.5486 - val_mse: 10522.7412\n",
      "Epoch 18/50\n",
      "736/736 [==============================] - 1s 868us/step - loss: 63.7460 - mse: 16896.2480 - val_loss: 47.2190 - val_mse: 10462.2305\n",
      "Epoch 19/50\n",
      "736/736 [==============================] - 1s 881us/step - loss: 63.5047 - mse: 16785.1992 - val_loss: 44.1539 - val_mse: 9901.5293\n",
      "Epoch 20/50\n",
      "736/736 [==============================] - 1s 945us/step - loss: 63.5797 - mse: 16945.1094 - val_loss: 44.9712 - val_mse: 10014.4805\n",
      "Epoch 21/50\n",
      "736/736 [==============================] - 1s 932us/step - loss: 63.9419 - mse: 16964.1289 - val_loss: 47.5097 - val_mse: 10712.3369\n",
      "Epoch 22/50\n",
      "736/736 [==============================] - 1s 882us/step - loss: 63.0819 - mse: 16628.7578 - val_loss: 45.0204 - val_mse: 9953.0527\n",
      "Epoch 23/50\n",
      "736/736 [==============================] - 1s 853us/step - loss: 63.6231 - mse: 16859.9219 - val_loss: 46.8019 - val_mse: 10686.9990\n",
      "Epoch 24/50\n",
      "736/736 [==============================] - 1s 859us/step - loss: 63.0761 - mse: 16729.6875 - val_loss: 47.0547 - val_mse: 10399.9805\n",
      "Epoch 25/50\n",
      "736/736 [==============================] - 1s 901us/step - loss: 62.1768 - mse: 16470.2090 - val_loss: 48.3749 - val_mse: 10694.1680\n",
      "Epoch 26/50\n",
      "736/736 [==============================] - 1s 882us/step - loss: 62.2230 - mse: 16158.0469 - val_loss: 49.2070 - val_mse: 10972.6016\n",
      "Epoch 27/50\n",
      "736/736 [==============================] - 1s 912us/step - loss: 62.4079 - mse: 16420.7305 - val_loss: 47.6120 - val_mse: 10522.3164\n",
      "Epoch 28/50\n",
      "736/736 [==============================] - 1s 896us/step - loss: 61.7679 - mse: 16064.8809 - val_loss: 44.8617 - val_mse: 10127.3809\n",
      "Epoch 29/50\n",
      "736/736 [==============================] - 1s 878us/step - loss: 62.0615 - mse: 16339.1650 - val_loss: 46.1067 - val_mse: 10199.7793\n",
      "Epoch 30/50\n",
      "736/736 [==============================] - 1s 897us/step - loss: 61.0412 - mse: 15766.6729 - val_loss: 46.2059 - val_mse: 10298.5684\n",
      "Epoch 31/50\n",
      "736/736 [==============================] - 1s 875us/step - loss: 62.2449 - mse: 16476.5820 - val_loss: 48.8263 - val_mse: 11009.4795\n",
      "Epoch 32/50\n",
      "736/736 [==============================] - 1s 933us/step - loss: 62.0014 - mse: 16174.3662 - val_loss: 48.4816 - val_mse: 10910.6553\n",
      "Epoch 33/50\n",
      "736/736 [==============================] - 1s 920us/step - loss: 61.4542 - mse: 16024.5303 - val_loss: 46.2172 - val_mse: 10211.0703\n",
      "Epoch 34/50\n",
      "736/736 [==============================] - 1s 861us/step - loss: 61.3468 - mse: 16157.6191 - val_loss: 45.7437 - val_mse: 10247.7158\n",
      "Epoch 35/50\n",
      "736/736 [==============================] - 1s 1ms/step - loss: 61.1599 - mse: 16101.3994 - val_loss: 47.8036 - val_mse: 10748.8135\n",
      "Epoch 36/50\n",
      "736/736 [==============================] - 1s 941us/step - loss: 60.2658 - mse: 15724.0996 - val_loss: 43.5047 - val_mse: 9715.8984\n",
      "Epoch 37/50\n",
      "736/736 [==============================] - 1s 1ms/step - loss: 60.0708 - mse: 15448.2598 - val_loss: 46.2766 - val_mse: 10014.5908\n",
      "Epoch 38/50\n",
      "736/736 [==============================] - 1s 908us/step - loss: 60.5259 - mse: 15660.7754 - val_loss: 45.8366 - val_mse: 10344.3135\n",
      "Epoch 39/50\n",
      "736/736 [==============================] - 1s 873us/step - loss: 60.4888 - mse: 15904.0791 - val_loss: 43.4116 - val_mse: 10010.5625\n",
      "Epoch 40/50\n",
      "736/736 [==============================] - 1s 861us/step - loss: 60.3809 - mse: 15694.5420 - val_loss: 46.7645 - val_mse: 10100.0537\n",
      "Epoch 41/50\n",
      "736/736 [==============================] - 1s 978us/step - loss: 60.1293 - mse: 15513.8223 - val_loss: 44.0342 - val_mse: 9818.5117\n",
      "Epoch 42/50\n",
      "736/736 [==============================] - 1s 970us/step - loss: 59.4724 - mse: 15323.5449 - val_loss: 49.2446 - val_mse: 10788.7910\n",
      "Epoch 43/50\n",
      "736/736 [==============================] - 1s 883us/step - loss: 59.3943 - mse: 15095.6211 - val_loss: 45.3726 - val_mse: 9744.9512\n",
      "Epoch 44/50\n",
      "736/736 [==============================] - 1s 880us/step - loss: 60.2631 - mse: 15723.0322 - val_loss: 45.8757 - val_mse: 9736.2402\n",
      "Epoch 45/50\n",
      "736/736 [==============================] - 1s 988us/step - loss: 60.1736 - mse: 15591.7822 - val_loss: 42.2669 - val_mse: 9189.6729\n",
      "Epoch 46/50\n",
      "736/736 [==============================] - 1s 1ms/step - loss: 59.6529 - mse: 15329.9092 - val_loss: 48.0413 - val_mse: 10367.2129\n",
      "Epoch 47/50\n",
      "736/736 [==============================] - 1s 913us/step - loss: 59.8662 - mse: 15613.3496 - val_loss: 44.7841 - val_mse: 9852.1357\n",
      "Epoch 48/50\n",
      "736/736 [==============================] - 1s 978us/step - loss: 60.0003 - mse: 15500.7832 - val_loss: 42.2743 - val_mse: 9482.4902\n",
      "Epoch 49/50\n",
      "736/736 [==============================] - 1s 881us/step - loss: 60.4635 - mse: 15654.1611 - val_loss: 42.7643 - val_mse: 9595.6260\n",
      "Epoch 50/50\n",
      "736/736 [==============================] - 1s 919us/step - loss: 60.5116 - mse: 15704.3730 - val_loss: 42.9297 - val_mse: 9528.4600\n"
     ]
    }
   ],
   "source": [
    "history = model.fit(xtrain, ytrain, validation_split=0.1, epochs=50, batch_size=32)\n"
   ]
  },
  {
   "cell_type": "code",
   "execution_count": 335,
   "metadata": {},
   "outputs": [
    {
     "data": {
      "image/png": "[encoded data removed]",
      "text/plain": [
       "<Figure size 432x288 with 1 Axes>"
      ]
     },
     "metadata": {
      "needs_background": "light"
     },
     "output_type": "display_data"
    },
    {
     "data": {
      "image/png": "[encoded data removed]",
      "text/plain": [
       "<Figure size 432x288 with 1 Axes>"
      ]
     },
     "metadata": {
      "needs_background": "light"
     },
     "output_type": "display_data"
    },
    {
     "data": {
      "image/png": "[encoded data removed]",
      "text/plain": [
       "<Figure size 432x288 with 1 Axes>"
      ]
     },
     "metadata": {
      "needs_background": "light"
     },
     "output_type": "display_data"
    },
    {
     "data": {
      "image/png": "[encoded data removed]",
      "text/plain": [
       "<Figure size 432x288 with 1 Axes>"
      ]
     },
     "metadata": {
      "needs_background": "light"
     },
     "output_type": "display_data"
    }
   ],
   "source": [
    "fit = history.history\n",
    "for i in fit:\n",
    "    plt.plot(fit[i])\n",
    "    plt.title(i + ' over epochs')\n",
    "    plt.ylabel(i)\n",
    "    plt.xlabel('epochs')\n",
    "    plt.show()"
   ]
  },
  {
   "cell_type": "code",
   "execution_count": 336,
   "metadata": {},
   "outputs": [
    {
     "name": "stdout",
     "output_type": "stream",
     "text": [
      "205/205 [==============================] - 0s 643us/step - loss: 40.6781 - mse: 9589.2979\n",
      "Mean absolute error:  40.67810821533203\n"
     ]
    }
   ],
   "source": [
    "scores = model.evaluate(xtest, ytest)\n",
    "mae = scores[0]\n",
    "mse = scores[1]\n",
    "print('Mean absolute error: ', mae)"
   ]
  },
  {
   "cell_type": "code",
   "execution_count": 339,
   "metadata": {},
   "outputs": [
    {
     "data": {
      "text/plain": [
       "40.678090141121494"
      ]
     },
     "execution_count": 339,
     "metadata": {},
     "output_type": "execute_result"
    }
   ],
   "source": [
    "mean_absolute_error(ytest, model.predict(xtest))"
   ]
  }
 ],
 "metadata": {
  "hide_input": false,
  "kernelspec": {
   "display_name": "Python 3 (ipykernel)",
   "language": "python",
   "name": "python3"
  },
  "language_info": {
   "codemirror_mode": {
    "name": "ipython",
    "version": 3
   },
   "file_extension": ".py",
   "mimetype": "text/x-python",
   "name": "python",
   "nbconvert_exporter": "python",
   "pygments_lexer": "ipython3",
   "version": "3.9.13"
  },
  "toc": {
   "base_numbering": 1,
   "nav_menu": {},
   "number_sections": true,
   "sideBar": true,
   "skip_h1_title": false,
   "title_cell": "Table of Contents",
   "title_sidebar": "Contents",
   "toc_cell": false,
   "toc_position": {},
   "toc_section_display": true,
   "toc_window_display": false
  },
  "varInspector": {
   "cols": {
    "lenName": 16,
    "lenType": 16,
    "lenVar": 40
   },
   "kernels_config": {
    "python": {
     "delete_cmd_postfix": "",
     "delete_cmd_prefix": "del ",
     "library": "var_list.py",
     "varRefreshCmd": "print(var_dic_list())"
    },
    "r": {
     "delete_cmd_postfix": ") ",
     "delete_cmd_prefix": "rm(",
     "library": "var_list.r",
     "varRefreshCmd": "cat(var_dic_list()) "
    }
   },
   "types_to_exclude": [
    "module",
    "function",
    "builtin_function_or_method",
    "instance",
    "_Feature"
   ],
   "window_display": false
  }
 },
 "nbformat": 4,
 "nbformat_minor": 4
}
