{
 "cells": [
  {
   "cell_type": "code",
   "execution_count": 3,
   "id": "02740abc",
   "metadata": {},
   "outputs": [],
   "source": [
    "from scipy.stats import chisquare"
   ]
  },
  {
   "cell_type": "code",
   "execution_count": 4,
   "id": "71b74700",
   "metadata": {},
   "outputs": [],
   "source": [
    "chi_square, pvalue =chisquare([48,24,24])"
   ]
  },
  {
   "cell_type": "code",
   "execution_count": 5,
   "id": "84c64655",
   "metadata": {},
   "outputs": [
    {
     "data": {
      "text/plain": [
       "(12.0, 0.002478752176666357)"
      ]
     },
     "execution_count": 5,
     "metadata": {},
     "output_type": "execute_result"
    }
   ],
   "source": [
    "chi_square, pvalue"
   ]
  },
  {
   "cell_type": "code",
   "execution_count": 6,
   "id": "6a2a14fc",
   "metadata": {},
   "outputs": [],
   "source": [
    "alpha = 0.01"
   ]
  },
  {
   "cell_type": "code",
   "execution_count": 7,
   "id": "50878e4d",
   "metadata": {},
   "outputs": [
    {
     "name": "stdout",
     "output_type": "stream",
     "text": [
      "Dependent (reject H0)\n"
     ]
    }
   ],
   "source": [
    "if (pvalue < alpha):\n",
    "    print('Dependent (reject H0)')\n",
    "else:\n",
    "    print('Independent (H0 holds true)')"
   ]
  },
  {
   "cell_type": "code",
   "execution_count": 8,
   "id": "45ae954c",
   "metadata": {},
   "outputs": [],
   "source": [
    "chi_square, pvalue =chisquare([5,9,13,7,6])"
   ]
  },
  {
   "cell_type": "code",
   "execution_count": 9,
   "id": "3f39a87a",
   "metadata": {},
   "outputs": [
    {
     "data": {
      "text/plain": [
       "(5.0, 0.2872974951836458)"
      ]
     },
     "execution_count": 9,
     "metadata": {},
     "output_type": "execute_result"
    }
   ],
   "source": [
    "chi_square, pvalue "
   ]
  },
  {
   "cell_type": "code",
   "execution_count": 10,
   "id": "ab7d9ec5",
   "metadata": {},
   "outputs": [],
   "source": [
    "alpha = 0.05"
   ]
  },
  {
   "cell_type": "code",
   "execution_count": 11,
   "id": "aaa915fe",
   "metadata": {},
   "outputs": [
    {
     "name": "stdout",
     "output_type": "stream",
     "text": [
      "Independent (H0 holds true)\n"
     ]
    }
   ],
   "source": [
    "if (pvalue < alpha):\n",
    "    print('Dependent (reject H0)')\n",
    "else:\n",
    "    print('Independent (H0 holds true)')"
   ]
  },
  {
   "cell_type": "code",
   "execution_count": 12,
   "id": "fbc6caf9",
   "metadata": {},
   "outputs": [],
   "source": [
    "from scipy.stats import chi2_contingency"
   ]
  },
  {
   "cell_type": "code",
   "execution_count": 13,
   "id": "0b7dab21",
   "metadata": {},
   "outputs": [],
   "source": [
    "data = [[207,282,241],[234,242,232]]"
   ]
  },
  {
   "cell_type": "code",
   "execution_count": 14,
   "id": "30162d0c",
   "metadata": {},
   "outputs": [],
   "source": [
    "stat, pvalue,dof,exp_freq =chi2_contingency(data)"
   ]
  },
  {
   "cell_type": "code",
   "execution_count": 16,
   "id": "e182b164",
   "metadata": {
    "scrolled": true
   },
   "outputs": [
    {
     "data": {
      "text/plain": [
       "(4.542228269825232,\n",
       " 0.10319714047309392,\n",
       " 2,\n",
       " array([[223.87343533, 266.00834492, 240.11821975],\n",
       "        [217.12656467, 257.99165508, 232.88178025]]))"
      ]
     },
     "execution_count": 16,
     "metadata": {},
     "output_type": "execute_result"
    }
   ],
   "source": [
    "stat, pvalue,dof,exp_freq"
   ]
  },
  {
   "cell_type": "code",
   "execution_count": 15,
   "id": "d6d97824",
   "metadata": {},
   "outputs": [],
   "source": [
    "outlook_data = [[2,3],[4,0],[3,2]]"
   ]
  },
  {
   "cell_type": "code",
   "execution_count": 16,
   "id": "2e80f782",
   "metadata": {},
   "outputs": [
    {
     "data": {
      "text/plain": [
       "Chi2ContingencyResult(statistic=3.546666666666666, pvalue=0.16976615743981124, dof=2, expected_freq=array([[3.21428571, 1.78571429],\n",
       "       [2.57142857, 1.42857143],\n",
       "       [3.21428571, 1.78571429]]))"
      ]
     },
     "execution_count": 16,
     "metadata": {},
     "output_type": "execute_result"
    }
   ],
   "source": [
    "chi2_contingency(outlook_data)"
   ]
  },
  {
   "cell_type": "code",
   "execution_count": 18,
   "id": "5ae0c20a",
   "metadata": {},
   "outputs": [],
   "source": [
    "wind_data = [[3,3],[6,2]]"
   ]
  },
  {
   "cell_type": "code",
   "execution_count": 19,
   "id": "56b6f970",
   "metadata": {},
   "outputs": [
    {
     "data": {
      "text/plain": [
       "Chi2ContingencyResult(statistic=0.16203703703703703, pvalue=0.687287949348002, dof=1, expected_freq=array([[3.85714286, 2.14285714],\n",
       "       [5.14285714, 2.85714286]]))"
      ]
     },
     "execution_count": 19,
     "metadata": {},
     "output_type": "execute_result"
    }
   ],
   "source": [
    "chi2_contingency(wind_data)"
   ]
  },
  {
   "cell_type": "code",
   "execution_count": 20,
   "id": "be05bdc3",
   "metadata": {},
   "outputs": [],
   "source": [
    "obs = [3,3,6,2]\n",
    "exp = [3.85714286, 2.14285714, 5.14285714, 2.85714286]"
   ]
  },
  {
   "cell_type": "code",
   "execution_count": 26,
   "id": "0f835729",
   "metadata": {},
   "outputs": [
    {
     "data": {
      "text/plain": [
       "Power_divergenceResult(statistic=0.9333333396938274, pvalue=0.8173771570701455)"
      ]
     },
     "execution_count": 26,
     "metadata": {},
     "output_type": "execute_result"
    }
   ],
   "source": [
    "chisquare (obs, exp)"
   ]
  },
  {
   "cell_type": "code",
   "execution_count": null,
   "id": "84d19fd6",
   "metadata": {},
   "outputs": [],
   "source": []
  }
 ],
 "metadata": {
  "kernelspec": {
   "display_name": "Python 3 (ipykernel)",
   "language": "python",
   "name": "python3"
  },
  "language_info": {
   "codemirror_mode": {
    "name": "ipython",
    "version": 3
   },
   "file_extension": ".py",
   "mimetype": "text/x-python",
   "name": "python",
   "nbconvert_exporter": "python",
   "pygments_lexer": "ipython3",
   "version": "3.11.1"
  }
 },
 "nbformat": 4,
 "nbformat_minor": 5
}
