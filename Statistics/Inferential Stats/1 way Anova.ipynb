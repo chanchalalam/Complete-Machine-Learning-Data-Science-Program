{
 "cells": [
  {
   "cell_type": "code",
   "execution_count": 2,
   "id": "0b714302",
   "metadata": {},
   "outputs": [],
   "source": [
    "from scipy.stats import f_oneway"
   ]
  },
  {
   "cell_type": "markdown",
   "id": "d478a556",
   "metadata": {},
   "source": [
    "Performance when each of the engine with different types of oil is applied"
   ]
  },
  {
   "cell_type": "code",
   "execution_count": 3,
   "id": "404662ec",
   "metadata": {},
   "outputs": [],
   "source": [
    "performance1 = [89, 89, 88, 78, 79]\n",
    "performance2 = [93, 92, 94, 89, 88]\n",
    "performance3 = [89, 88, 89, 93, 90]\n",
    "performance4 = [81, 78, 81, 92, 82]"
   ]
  },
  {
   "cell_type": "code",
   "execution_count": 4,
   "id": "7bcd5b60",
   "metadata": {},
   "outputs": [],
   "source": [
    "alpha = 0.05"
   ]
  },
  {
   "cell_type": "code",
   "execution_count": 5,
   "id": "97b31724",
   "metadata": {},
   "outputs": [],
   "source": [
    "stat, pvalue = f_oneway(performance1, performance2, performance3, performance4)"
   ]
  },
  {
   "cell_type": "code",
   "execution_count": 6,
   "id": "4fc90cd7",
   "metadata": {},
   "outputs": [
    {
     "data": {
      "text/plain": [
       "(4.625000000000002, 0.01633645983978022)"
      ]
     },
     "execution_count": 6,
     "metadata": {},
     "output_type": "execute_result"
    }
   ],
   "source": [
    "stat, pvalue"
   ]
  },
  {
   "cell_type": "code",
   "execution_count": 7,
   "id": "10af033d",
   "metadata": {},
   "outputs": [
    {
     "name": "stdout",
     "output_type": "stream",
     "text": [
      "Reject the null Hypothesis\n"
     ]
    }
   ],
   "source": [
    "if(pvalue<alpha):\n",
    "    print(\"Reject the null Hypothesis\")\n",
    "else:\n",
    "    print(\"Failed to reject the null Hypothesis\")"
   ]
  },
  {
   "cell_type": "markdown",
   "id": "2346dd54",
   "metadata": {},
   "source": [
    "This implies that we have sufficient proof to say that there exists a difference in the performance among four different engine oils. "
   ]
  },
  {
   "cell_type": "code",
   "execution_count": 11,
   "id": "afcc750a",
   "metadata": {},
   "outputs": [],
   "source": [
    "e = [2,4,2]\n",
    "m =[2,3,4]\n",
    "s = [1,2,5]"
   ]
  },
  {
   "cell_type": "code",
   "execution_count": 12,
   "id": "73cd8603",
   "metadata": {},
   "outputs": [
    {
     "data": {
      "text/plain": [
       "F_onewayResult(statistic=0.04999999999999999, pvalue=0.9516215013591449)"
      ]
     },
     "execution_count": 12,
     "metadata": {},
     "output_type": "execute_result"
    }
   ],
   "source": [
    "f_oneway(e,m,s)"
   ]
  }
 ],
 "metadata": {
  "kernelspec": {
   "display_name": "Python 3 (ipykernel)",
   "language": "python",
   "name": "python3"
  },
  "language_info": {
   "codemirror_mode": {
    "name": "ipython",
    "version": 3
   },
   "file_extension": ".py",
   "mimetype": "text/x-python",
   "name": "python",
   "nbconvert_exporter": "python",
   "pygments_lexer": "ipython3",
   "version": "3.11.1"
  }
 },
 "nbformat": 4,
 "nbformat_minor": 5
}
