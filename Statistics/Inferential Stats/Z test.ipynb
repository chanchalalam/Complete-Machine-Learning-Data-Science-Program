{
 "cells": [
  {
   "cell_type": "code",
   "execution_count": 89,
   "id": "5af96aa2",
   "metadata": {},
   "outputs": [],
   "source": [
    "import math\n",
    "import numpy as np\n",
    "import scipy"
   ]
  },
  {
   "cell_type": "code",
   "execution_count": 88,
   "id": "6bfc3f54",
   "metadata": {},
   "outputs": [],
   "source": [
    "alpha = 0.05"
   ]
  },
  {
   "cell_type": "code",
   "execution_count": 87,
   "id": "bc95ebe3",
   "metadata": {},
   "outputs": [],
   "source": [
    "def z_test(n, sample_mean,null_mean, sd,alternative):\n",
    "    z_score = (sample_mean-null_mean)/(sd/math.sqrt(n))\n",
    "    p_value = scipy.stats.norm.sf(z_score)\n",
    "    print(z_score)\n",
    "    print(p_value)\n",
    "    if(alternative == \"larger\" or alternative == \"smaller\"):\n",
    "        if(p_value <  alpha):\n",
    "            print(\"Reject Null Hypothesis\")\n",
    "        else:\n",
    "            print(\"Fail to Reject NUll Hypothesis\")\n",
    "    elif(alternative == \"two-sided\"):\n",
    "        if(p_value <  alpha/2):\n",
    "            print(\"Reject Null Hypothesis\")\n",
    "        else:\n",
    "            print(\"Fail to Reject NUll Hypothesis\")"
   ]
  },
  {
   "cell_type": "code",
   "execution_count": 84,
   "id": "75b8dcea",
   "metadata": {},
   "outputs": [
    {
     "name": "stdout",
     "output_type": "stream",
     "text": [
      "4.714045207910317\n",
      "1.2142337364879197e-06\n",
      "Reject Null Hypothesis\n"
     ]
    }
   ],
   "source": [
    "z_test(50,110, 100,15, \"larger\")"
   ]
  },
  {
   "cell_type": "code",
   "execution_count": 36,
   "id": "afe4e1d5",
   "metadata": {
    "scrolled": true
   },
   "outputs": [],
   "source": [
    "mean_iq = 90\n",
    "sd_iq = 20/math.sqrt(81)\n",
    "data2 = sd_iq*randn(81)+mean_iq"
   ]
  },
  {
   "cell_type": "code",
   "execution_count": 85,
   "id": "1f43eeac",
   "metadata": {},
   "outputs": [
    {
     "name": "stdout",
     "output_type": "stream",
     "text": [
      "3.5999999999999996\n",
      "0.00015910859015753396\n",
      "Reject Null Hypothesis\n"
     ]
    }
   ],
   "source": [
    "z_test(81,90,82,20,\"larger\")"
   ]
  },
  {
   "cell_type": "code",
   "execution_count": 38,
   "id": "c6bbea08",
   "metadata": {},
   "outputs": [],
   "source": [
    " ztest_score, p_value = ztest(data2,value = null_mean, alternative='larger')"
   ]
  },
  {
   "cell_type": "code",
   "execution_count": 39,
   "id": "6a95ea9f",
   "metadata": {},
   "outputs": [
    {
     "name": "stdout",
     "output_type": "stream",
     "text": [
      "Reject Null Hypothesis\n"
     ]
    }
   ],
   "source": [
    "if(p_value <  alpha):\n",
    "  print(\"Reject Null Hypothesis\")\n",
    "else:\n",
    "  print(\"Fail to Reject NUll Hypothesis\")"
   ]
  }
 ],
 "metadata": {
  "kernelspec": {
   "display_name": "Python 3 (ipykernel)",
   "language": "python",
   "name": "python3"
  },
  "language_info": {
   "codemirror_mode": {
    "name": "ipython",
    "version": 3
   },
   "file_extension": ".py",
   "mimetype": "text/x-python",
   "name": "python",
   "nbconvert_exporter": "python",
   "pygments_lexer": "ipython3",
   "version": "3.11.1"
  }
 },
 "nbformat": 4,
 "nbformat_minor": 5
}
