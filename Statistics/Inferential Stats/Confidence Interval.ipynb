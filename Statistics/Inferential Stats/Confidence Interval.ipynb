{
 "cells": [
  {
   "cell_type": "markdown",
   "id": "11154bb4",
   "metadata": {},
   "source": [
    "Calculate the 90% confidence Intervals of the data set of size(n=20) using the t Distribution using the  t.interval() function and passing the alpha parameter to 0.90 in the python."
   ]
  },
  {
   "cell_type": "code",
   "execution_count": 1,
   "id": "e3b00d78",
   "metadata": {},
   "outputs": [],
   "source": [
    "import numpy as np \n",
    "import scipy.stats as st "
   ]
  },
  {
   "cell_type": "code",
   "execution_count": 2,
   "id": "36f06ed1",
   "metadata": {},
   "outputs": [],
   "source": [
    "gfg_data = [1, 1, 1, 2, 2, 2, 3, 3, 3, 3,  \n",
    "            3, 4, 4, 5, 5, 5, 6, 7, 8, 10] "
   ]
  },
  {
   "cell_type": "code",
   "execution_count": 3,
   "id": "1180a155",
   "metadata": {
    "scrolled": true
   },
   "outputs": [
    {
     "data": {
      "text/plain": [
       "(2.962098014195961, 4.837901985804038)"
      ]
     },
     "execution_count": 3,
     "metadata": {},
     "output_type": "execute_result"
    }
   ],
   "source": [
    "st.t.interval(confidence = 0.90, df = len(gfg_data)-1,loc = np.mean(gfg_data), scale=st.sem(gfg_data))"
   ]
  },
  {
   "cell_type": "code",
   "execution_count": 4,
   "id": "f2c1c83f",
   "metadata": {},
   "outputs": [
    {
     "data": {
      "text/plain": [
       "3.9"
      ]
     },
     "execution_count": 4,
     "metadata": {},
     "output_type": "execute_result"
    }
   ],
   "source": [
    "np.mean(gfg_data)"
   ]
  },
  {
   "cell_type": "markdown",
   "id": "3ddcc3c9",
   "metadata": {},
   "source": [
    "Calculate the 90% confidence Intervals of the random data set of size(n=100) using the norm Distribution using the norm.interval() function and passing the alpha parameter to 0.90 in the python."
   ]
  },
  {
   "cell_type": "code",
   "execution_count": 5,
   "id": "846a0514",
   "metadata": {},
   "outputs": [],
   "source": [
    "np.random.seed(0)\n",
    "gfg_data = np.random.randint(5, 10, 100) "
   ]
  },
  {
   "cell_type": "code",
   "execution_count": 6,
   "id": "d6efa71a",
   "metadata": {},
   "outputs": [
    {
     "data": {
      "text/plain": [
       "(6.722821921612098, 7.197178078387902)"
      ]
     },
     "execution_count": 6,
     "metadata": {},
     "output_type": "execute_result"
    }
   ],
   "source": [
    "st.norm.interval(confidence = 0.90,loc = np.mean(gfg_data), scale=st.sem(gfg_data))"
   ]
  },
  {
   "cell_type": "code",
   "execution_count": 11,
   "id": "a75092a1",
   "metadata": {},
   "outputs": [
    {
     "data": {
      "text/plain": [
       "6.96"
      ]
     },
     "execution_count": 11,
     "metadata": {},
     "output_type": "execute_result"
    }
   ],
   "source": [
    "np.mean(gfg_data)"
   ]
  }
 ],
 "metadata": {
  "kernelspec": {
   "display_name": "Python 3 (ipykernel)",
   "language": "python",
   "name": "python3"
  },
  "language_info": {
   "codemirror_mode": {
    "name": "ipython",
    "version": 3
   },
   "file_extension": ".py",
   "mimetype": "text/x-python",
   "name": "python",
   "nbconvert_exporter": "python",
   "pygments_lexer": "ipython3",
   "version": "3.11.1"
  }
 },
 "nbformat": 4,
 "nbformat_minor": 5
}
