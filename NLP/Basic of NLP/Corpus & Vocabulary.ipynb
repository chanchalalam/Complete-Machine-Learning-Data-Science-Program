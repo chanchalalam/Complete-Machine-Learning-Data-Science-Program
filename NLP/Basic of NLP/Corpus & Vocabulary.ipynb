{
 "cells": [
  {
   "cell_type": "code",
   "execution_count": 5,
   "id": "712eec32",
   "metadata": {},
   "outputs": [],
   "source": [
    "from nltk.tokenize import word_tokenize"
   ]
  },
  {
   "cell_type": "code",
   "execution_count": 9,
   "id": "39673aa9",
   "metadata": {},
   "outputs": [],
   "source": [
    "corpus= 'The silhouette value is a measure of how similar an object is to its own cluster (cohesion) compared to other clusters (separation).'"
   ]
  },
  {
   "cell_type": "code",
   "execution_count": 10,
   "id": "8cd6acb4",
   "metadata": {},
   "outputs": [
    {
     "data": {
      "text/plain": [
       "'The silhouette value is a measure of how similar an object is to its own cluster (cohesion) compared to other clusters (separation).'"
      ]
     },
     "execution_count": 10,
     "metadata": {},
     "output_type": "execute_result"
    }
   ],
   "source": [
    "corpus"
   ]
  },
  {
   "cell_type": "code",
   "execution_count": 11,
   "id": "bb1d42ff",
   "metadata": {},
   "outputs": [
    {
     "data": {
      "text/plain": [
       "['The',\n",
       " 'silhouette',\n",
       " 'value',\n",
       " 'is',\n",
       " 'a',\n",
       " 'measure',\n",
       " 'of',\n",
       " 'how',\n",
       " 'similar',\n",
       " 'an',\n",
       " 'object',\n",
       " 'is',\n",
       " 'to',\n",
       " 'its',\n",
       " 'own',\n",
       " 'cluster',\n",
       " '(',\n",
       " 'cohesion',\n",
       " ')',\n",
       " 'compared',\n",
       " 'to',\n",
       " 'other',\n",
       " 'clusters',\n",
       " '(',\n",
       " 'separation',\n",
       " ')',\n",
       " '.']"
      ]
     },
     "execution_count": 11,
     "metadata": {},
     "output_type": "execute_result"
    }
   ],
   "source": [
    "word_tokenize(corpus)"
   ]
  },
  {
   "cell_type": "code",
   "execution_count": 16,
   "id": "3eb75166",
   "metadata": {},
   "outputs": [],
   "source": [
    "word = []\n",
    "\n",
    "for word in word_tokenize(corpus):\n",
    "    if word.lower() not in stopwords.words('english') and len(word) >= 23:\n",
    "        word_list.append(word.lower())\n"
   ]
  },
  {
   "cell_type": "code",
   "execution_count": 17,
   "id": "1a82e409",
   "metadata": {},
   "outputs": [
    {
     "data": {
      "text/plain": [
       "1"
      ]
     },
     "execution_count": 17,
     "metadata": {},
     "output_type": "execute_result"
    }
   ],
   "source": [
    "len(word)"
   ]
  },
  {
   "cell_type": "code",
   "execution_count": null,
   "id": "021b38f1",
   "metadata": {},
   "outputs": [],
   "source": []
  }
 ],
 "metadata": {
  "hide_input": false,
  "kernelspec": {
   "display_name": "Python 3 (ipykernel)",
   "language": "python",
   "name": "python3"
  },
  "language_info": {
   "codemirror_mode": {
    "name": "ipython",
    "version": 3
   },
   "file_extension": ".py",
   "mimetype": "text/x-python",
   "name": "python",
   "nbconvert_exporter": "python",
   "pygments_lexer": "ipython3",
   "version": "3.9.13"
  },
  "toc": {
   "base_numbering": 1,
   "nav_menu": {},
   "number_sections": true,
   "sideBar": true,
   "skip_h1_title": false,
   "title_cell": "Table of Contents",
   "title_sidebar": "Contents",
   "toc_cell": false,
   "toc_position": {},
   "toc_section_display": true,
   "toc_window_display": false
  },
  "varInspector": {
   "cols": {
    "lenName": 16,
    "lenType": 16,
    "lenVar": 40
   },
   "kernels_config": {
    "python": {
     "delete_cmd_postfix": "",
     "delete_cmd_prefix": "del ",
     "library": "var_list.py",
     "varRefreshCmd": "print(var_dic_list())"
    },
    "r": {
     "delete_cmd_postfix": ") ",
     "delete_cmd_prefix": "rm(",
     "library": "var_list.r",
     "varRefreshCmd": "cat(var_dic_list()) "
    }
   },
   "types_to_exclude": [
    "module",
    "function",
    "builtin_function_or_method",
    "instance",
    "_Feature"
   ],
   "window_display": false
  }
 },
 "nbformat": 4,
 "nbformat_minor": 5
}
